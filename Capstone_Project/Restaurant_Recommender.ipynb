{
 "cells": [
  {
   "cell_type": "code",
   "execution_count": 573,
   "metadata": {},
   "outputs": [],
   "source": [
    "import pandas as pd\n",
    "import numpy as np\n",
    "import json\n",
    "import matplotlib.pyplot as plt\n",
    "import seaborn as sns"
   ]
  },
  {
   "cell_type": "code",
   "execution_count": 138,
   "metadata": {},
   "outputs": [],
   "source": [
    "def pick_lines_and_load(line):\n",
    "    '''\n",
    "    Args:\n",
    "    Returns:\n",
    "    '''\n",
    "    line_json = json.loads(line)\n",
    "    line = dict( [k,v] for k,v in line_json.items() if k in columns_to_keep) \n",
    "    return line\n",
    "    \n",
    "def read_in_json(filepath):\n",
    "    '''The Yelp json files are one json per row, so \n",
    "    Args:\n",
    "    Returns:\n",
    "    \n",
    "    '''\n",
    "    with open(filepath) as json_file:      \n",
    "        data = json_file.readlines()\n",
    "        data = list(map(pick_lines_and_load, data)) \n",
    "\n",
    "    return pd.DataFrame(data)\n",
    "\n",
    "def get_file_structure(filepath):\n",
    "    '''Gets the file structure of the input file by reading a single line \n",
    "    Args:\n",
    "    Returns:\n",
    "    \n",
    "    '''\n",
    "    with open(filepath) as json_file:      \n",
    "        data = json_file.readlines(1)\n",
    "        data = list(map(json.loads, data)) \n",
    "\n",
    "    return pd.DataFrame(data)"
   ]
  },
  {
   "cell_type": "code",
   "execution_count": 390,
   "metadata": {},
   "outputs": [],
   "source": [
    "get_file_structure('../../../YelpData/yelp_academic_dataset_business.json')\n",
    "columns_to_keep = ['business_id','name','city','latitude','longitude','review_count','categories']"
   ]
  },
  {
   "cell_type": "code",
   "execution_count": 391,
   "metadata": {},
   "outputs": [],
   "source": [
    "df_businesses = read_in_json('../../../YelpData/yelp_academic_dataset_business.json')\n",
    "\n"
   ]
  },
  {
   "cell_type": "code",
   "execution_count": 392,
   "metadata": {},
   "outputs": [
    {
     "data": {
      "text/html": [
       "<div>\n",
       "<style scoped>\n",
       "    .dataframe tbody tr th:only-of-type {\n",
       "        vertical-align: middle;\n",
       "    }\n",
       "\n",
       "    .dataframe tbody tr th {\n",
       "        vertical-align: top;\n",
       "    }\n",
       "\n",
       "    .dataframe thead th {\n",
       "        text-align: right;\n",
       "    }\n",
       "</style>\n",
       "<table border=\"1\" class=\"dataframe\">\n",
       "  <thead>\n",
       "    <tr style=\"text-align: right;\">\n",
       "      <th></th>\n",
       "      <th>business_id</th>\n",
       "      <th>name</th>\n",
       "      <th>city</th>\n",
       "      <th>latitude</th>\n",
       "      <th>longitude</th>\n",
       "      <th>review_count</th>\n",
       "      <th>categories</th>\n",
       "    </tr>\n",
       "  </thead>\n",
       "  <tbody>\n",
       "    <tr>\n",
       "      <th>0</th>\n",
       "      <td>f9NumwFMBDn751xgFiRbNA</td>\n",
       "      <td>The Range At Lake Norman</td>\n",
       "      <td>Cornelius</td>\n",
       "      <td>35.462724</td>\n",
       "      <td>-80.852612</td>\n",
       "      <td>36</td>\n",
       "      <td>Active Life, Gun/Rifle Ranges, Guns &amp; Ammo, Sh...</td>\n",
       "    </tr>\n",
       "    <tr>\n",
       "      <th>1</th>\n",
       "      <td>Yzvjg0SayhoZgCljUJRF9Q</td>\n",
       "      <td>Carlos Santo, NMD</td>\n",
       "      <td>Scottsdale</td>\n",
       "      <td>33.569404</td>\n",
       "      <td>-111.890264</td>\n",
       "      <td>4</td>\n",
       "      <td>Health &amp; Medical, Fitness &amp; Instruction, Yoga,...</td>\n",
       "    </tr>\n",
       "    <tr>\n",
       "      <th>2</th>\n",
       "      <td>XNoUzKckATkOD1hP6vghZg</td>\n",
       "      <td>Felinus</td>\n",
       "      <td>Montreal</td>\n",
       "      <td>45.479984</td>\n",
       "      <td>-73.580070</td>\n",
       "      <td>5</td>\n",
       "      <td>Pets, Pet Services, Pet Groomers</td>\n",
       "    </tr>\n",
       "    <tr>\n",
       "      <th>3</th>\n",
       "      <td>6OAZjbxqM5ol29BuHsil3w</td>\n",
       "      <td>Nevada House of Hose</td>\n",
       "      <td>North Las Vegas</td>\n",
       "      <td>36.219728</td>\n",
       "      <td>-115.127725</td>\n",
       "      <td>3</td>\n",
       "      <td>Hardware Stores, Home Services, Building Suppl...</td>\n",
       "    </tr>\n",
       "    <tr>\n",
       "      <th>4</th>\n",
       "      <td>51M2Kk903DFYI6gnB5I6SQ</td>\n",
       "      <td>USE MY GUY SERVICES LLC</td>\n",
       "      <td>Mesa</td>\n",
       "      <td>33.428065</td>\n",
       "      <td>-111.726648</td>\n",
       "      <td>26</td>\n",
       "      <td>Home Services, Plumbing, Electricians, Handyma...</td>\n",
       "    </tr>\n",
       "  </tbody>\n",
       "</table>\n",
       "</div>"
      ],
      "text/plain": [
       "              business_id                      name             city  \\\n",
       "0  f9NumwFMBDn751xgFiRbNA  The Range At Lake Norman        Cornelius   \n",
       "1  Yzvjg0SayhoZgCljUJRF9Q         Carlos Santo, NMD       Scottsdale   \n",
       "2  XNoUzKckATkOD1hP6vghZg                   Felinus         Montreal   \n",
       "3  6OAZjbxqM5ol29BuHsil3w      Nevada House of Hose  North Las Vegas   \n",
       "4  51M2Kk903DFYI6gnB5I6SQ   USE MY GUY SERVICES LLC             Mesa   \n",
       "\n",
       "    latitude   longitude  review_count  \\\n",
       "0  35.462724  -80.852612            36   \n",
       "1  33.569404 -111.890264             4   \n",
       "2  45.479984  -73.580070             5   \n",
       "3  36.219728 -115.127725             3   \n",
       "4  33.428065 -111.726648            26   \n",
       "\n",
       "                                          categories  \n",
       "0  Active Life, Gun/Rifle Ranges, Guns & Ammo, Sh...  \n",
       "1  Health & Medical, Fitness & Instruction, Yoga,...  \n",
       "2                   Pets, Pet Services, Pet Groomers  \n",
       "3  Hardware Stores, Home Services, Building Suppl...  \n",
       "4  Home Services, Plumbing, Electricians, Handyma...  "
      ]
     },
     "execution_count": 392,
     "metadata": {},
     "output_type": "execute_result"
    }
   ],
   "source": [
    "df_businesses.head()"
   ]
  },
  {
   "cell_type": "code",
   "execution_count": 426,
   "metadata": {},
   "outputs": [
    {
     "data": {
      "text/plain": [
       "business_id     0.000000\n",
       "name            0.000000\n",
       "city            0.000000\n",
       "latitude        0.000000\n",
       "longitude       0.000000\n",
       "review_count    0.000000\n",
       "categories      0.002502\n",
       "dtype: float64"
      ]
     },
     "execution_count": 426,
     "metadata": {},
     "output_type": "execute_result"
    }
   ],
   "source": [
    "# How many nulls in each columns?\n",
    "df_businesses.isna().mean()"
   ]
  },
  {
   "cell_type": "code",
   "execution_count": 430,
   "metadata": {},
   "outputs": [
    {
     "data": {
      "text/plain": [
       "business_id     0.0\n",
       "name            0.0\n",
       "city            0.0\n",
       "latitude        0.0\n",
       "longitude       0.0\n",
       "review_count    0.0\n",
       "categories      0.0\n",
       "dtype: float64"
      ]
     },
     "execution_count": 430,
     "metadata": {},
     "output_type": "execute_result"
    }
   ],
   "source": [
    "# Drop businesses without a category\n",
    "df_businesses.dropna(subset = ['categories'], inplace=True)\n",
    "df_businesses.isna().mean()"
   ]
  },
  {
   "cell_type": "code",
   "execution_count": 431,
   "metadata": {},
   "outputs": [],
   "source": [
    "categories = df_businesses.categories.str.split(',').explode().str.strip()"
   ]
  },
  {
   "cell_type": "code",
   "execution_count": 432,
   "metadata": {
    "scrolled": true
   },
   "outputs": [
    {
     "data": {
      "image/png": "[encoded data removed]",
      "text/plain": [
       "<Figure size 432x288 with 1 Axes>"
      ]
     },
     "metadata": {
      "needs_background": "light"
     },
     "output_type": "display_data"
    }
   ],
   "source": [
    "categories.value_counts()[:10].plot(kind='bar');"
   ]
  },
  {
   "cell_type": "code",
   "execution_count": 440,
   "metadata": {},
   "outputs": [
    {
     "data": {
      "text/html": [
       "<div>\n",
       "<style scoped>\n",
       "    .dataframe tbody tr th:only-of-type {\n",
       "        vertical-align: middle;\n",
       "    }\n",
       "\n",
       "    .dataframe tbody tr th {\n",
       "        vertical-align: top;\n",
       "    }\n",
       "\n",
       "    .dataframe thead th {\n",
       "        text-align: right;\n",
       "    }\n",
       "</style>\n",
       "<table border=\"1\" class=\"dataframe\">\n",
       "  <thead>\n",
       "    <tr style=\"text-align: right;\">\n",
       "      <th></th>\n",
       "      <th>business_id</th>\n",
       "      <th>name</th>\n",
       "      <th>city</th>\n",
       "      <th>latitude</th>\n",
       "      <th>longitude</th>\n",
       "      <th>review_count</th>\n",
       "      <th>categories</th>\n",
       "    </tr>\n",
       "  </thead>\n",
       "  <tbody>\n",
       "    <tr>\n",
       "      <th>24</th>\n",
       "      <td>eBEfgOPG7pvFhb2wcG9I7w</td>\n",
       "      <td>Philthy Phillys</td>\n",
       "      <td>Aurora</td>\n",
       "      <td>44.010962</td>\n",
       "      <td>-79.448677</td>\n",
       "      <td>4</td>\n",
       "      <td>Restaurants, Cheesesteaks, Poutineries</td>\n",
       "    </tr>\n",
       "    <tr>\n",
       "      <th>38</th>\n",
       "      <td>rVBPQdeayMYht4Uv_FOLHg</td>\n",
       "      <td>Gourmet Burger Company</td>\n",
       "      <td>Toronto</td>\n",
       "      <td>43.633291</td>\n",
       "      <td>-79.531768</td>\n",
       "      <td>13</td>\n",
       "      <td>Restaurants, Burgers, Food</td>\n",
       "    </tr>\n",
       "    <tr>\n",
       "      <th>41</th>\n",
       "      <td>98hyK2QEUeI8v2y0AghfZA</td>\n",
       "      <td>Pho Lee's Vietnamese Restaurant</td>\n",
       "      <td>Cleveland</td>\n",
       "      <td>41.512155</td>\n",
       "      <td>-81.663332</td>\n",
       "      <td>23</td>\n",
       "      <td>Restaurants, Vietnamese, Soup</td>\n",
       "    </tr>\n",
       "    <tr>\n",
       "      <th>43</th>\n",
       "      <td>LoRef3ChgZKbxUio-sHgQg</td>\n",
       "      <td>Amir</td>\n",
       "      <td>Montréal</td>\n",
       "      <td>45.494870</td>\n",
       "      <td>-73.651904</td>\n",
       "      <td>18</td>\n",
       "      <td>Restaurants, Lebanese, Middle Eastern</td>\n",
       "    </tr>\n",
       "    <tr>\n",
       "      <th>49</th>\n",
       "      <td>tLpkSwdtqqoXwU0JAGnApw</td>\n",
       "      <td>Wendy's</td>\n",
       "      <td>Cleveland</td>\n",
       "      <td>41.434614</td>\n",
       "      <td>-81.527026</td>\n",
       "      <td>7</td>\n",
       "      <td>Restaurants, Fast Food, Burgers</td>\n",
       "    </tr>\n",
       "  </tbody>\n",
       "</table>\n",
       "</div>"
      ],
      "text/plain": [
       "               business_id                             name       city  \\\n",
       "24  eBEfgOPG7pvFhb2wcG9I7w                  Philthy Phillys     Aurora   \n",
       "38  rVBPQdeayMYht4Uv_FOLHg           Gourmet Burger Company    Toronto   \n",
       "41  98hyK2QEUeI8v2y0AghfZA  Pho Lee's Vietnamese Restaurant  Cleveland   \n",
       "43  LoRef3ChgZKbxUio-sHgQg                             Amir   Montréal   \n",
       "49  tLpkSwdtqqoXwU0JAGnApw                          Wendy's  Cleveland   \n",
       "\n",
       "     latitude  longitude  review_count                              categories  \n",
       "24  44.010962 -79.448677             4  Restaurants, Cheesesteaks, Poutineries  \n",
       "38  43.633291 -79.531768            13              Restaurants, Burgers, Food  \n",
       "41  41.512155 -81.663332            23           Restaurants, Vietnamese, Soup  \n",
       "43  45.494870 -73.651904            18   Restaurants, Lebanese, Middle Eastern  \n",
       "49  41.434614 -81.527026             7         Restaurants, Fast Food, Burgers  "
      ]
     },
     "execution_count": 440,
     "metadata": {},
     "output_type": "execute_result"
    }
   ],
   "source": [
    "# Keep only business which contain Restaurant in their category list\n",
    "df_businesses = df_businesses[df_businesses.categories.str.split(',').apply(lambda x: 'Restaurants' in x)]\n",
    "df_businesses.head()"
   ]
  },
  {
   "cell_type": "code",
   "execution_count": 135,
   "metadata": {},
   "outputs": [],
   "source": [
    "review_filepath = '../../../YelpData/yelp_academic_dataset_review.json'\n",
    "get_file_structure(review_filepath)\n",
    "columns_to_keep = ['review_id','user_id','business_id','stars','useful','funny','cool','date']"
   ]
  },
  {
   "cell_type": "markdown",
   "metadata": {},
   "source": [
    "df_reviews = read_in_json(review_filepath)"
   ]
  },
  {
   "cell_type": "code",
   "execution_count": 141,
   "metadata": {},
   "outputs": [
    {
     "data": {
      "text/html": [
       "<div>\n",
       "<style scoped>\n",
       "    .dataframe tbody tr th:only-of-type {\n",
       "        vertical-align: middle;\n",
       "    }\n",
       "\n",
       "    .dataframe tbody tr th {\n",
       "        vertical-align: top;\n",
       "    }\n",
       "\n",
       "    .dataframe thead th {\n",
       "        text-align: right;\n",
       "    }\n",
       "</style>\n",
       "<table border=\"1\" class=\"dataframe\">\n",
       "  <thead>\n",
       "    <tr style=\"text-align: right;\">\n",
       "      <th></th>\n",
       "      <th>review_id</th>\n",
       "      <th>user_id</th>\n",
       "      <th>business_id</th>\n",
       "      <th>stars</th>\n",
       "      <th>useful</th>\n",
       "      <th>funny</th>\n",
       "      <th>cool</th>\n",
       "      <th>date</th>\n",
       "    </tr>\n",
       "  </thead>\n",
       "  <tbody>\n",
       "    <tr>\n",
       "      <th>0</th>\n",
       "      <td>xQY8N_XvtGbearJ5X4QryQ</td>\n",
       "      <td>OwjRMXRC0KyPrIlcjaXeFQ</td>\n",
       "      <td>-MhfebM0QIsKt87iDN-FNw</td>\n",
       "      <td>2.0</td>\n",
       "      <td>5</td>\n",
       "      <td>0</td>\n",
       "      <td>0</td>\n",
       "      <td>2015-04-15 05:21:16</td>\n",
       "    </tr>\n",
       "    <tr>\n",
       "      <th>1</th>\n",
       "      <td>UmFMZ8PyXZTY2QcwzsfQYA</td>\n",
       "      <td>nIJD_7ZXHq-FX8byPMOkMQ</td>\n",
       "      <td>lbrU8StCq3yDfr-QMnGrmQ</td>\n",
       "      <td>1.0</td>\n",
       "      <td>1</td>\n",
       "      <td>1</td>\n",
       "      <td>0</td>\n",
       "      <td>2013-12-07 03:16:52</td>\n",
       "    </tr>\n",
       "    <tr>\n",
       "      <th>2</th>\n",
       "      <td>LG2ZaYiOgpr2DK_90pYjNw</td>\n",
       "      <td>V34qejxNsCbcgD8C0HVk-Q</td>\n",
       "      <td>HQl28KMwrEKHqhFrrDqVNQ</td>\n",
       "      <td>5.0</td>\n",
       "      <td>1</td>\n",
       "      <td>0</td>\n",
       "      <td>0</td>\n",
       "      <td>2015-12-05 03:18:11</td>\n",
       "    </tr>\n",
       "    <tr>\n",
       "      <th>3</th>\n",
       "      <td>i6g_oA9Yf9Y31qt0wibXpw</td>\n",
       "      <td>ofKDkJKXSKZXu5xJNGiiBQ</td>\n",
       "      <td>5JxlZaqCnk1MnbgRirs40Q</td>\n",
       "      <td>1.0</td>\n",
       "      <td>0</td>\n",
       "      <td>0</td>\n",
       "      <td>0</td>\n",
       "      <td>2011-05-27 05:30:52</td>\n",
       "    </tr>\n",
       "    <tr>\n",
       "      <th>4</th>\n",
       "      <td>6TdNDKywdbjoTkizeMce8A</td>\n",
       "      <td>UgMW8bLE0QMJDCkQ1Ax5Mg</td>\n",
       "      <td>IS4cv902ykd8wj1TR0N3-A</td>\n",
       "      <td>4.0</td>\n",
       "      <td>0</td>\n",
       "      <td>0</td>\n",
       "      <td>0</td>\n",
       "      <td>2017-01-14 21:56:57</td>\n",
       "    </tr>\n",
       "  </tbody>\n",
       "</table>\n",
       "</div>"
      ],
      "text/plain": [
       "                review_id                 user_id             business_id  \\\n",
       "0  xQY8N_XvtGbearJ5X4QryQ  OwjRMXRC0KyPrIlcjaXeFQ  -MhfebM0QIsKt87iDN-FNw   \n",
       "1  UmFMZ8PyXZTY2QcwzsfQYA  nIJD_7ZXHq-FX8byPMOkMQ  lbrU8StCq3yDfr-QMnGrmQ   \n",
       "2  LG2ZaYiOgpr2DK_90pYjNw  V34qejxNsCbcgD8C0HVk-Q  HQl28KMwrEKHqhFrrDqVNQ   \n",
       "3  i6g_oA9Yf9Y31qt0wibXpw  ofKDkJKXSKZXu5xJNGiiBQ  5JxlZaqCnk1MnbgRirs40Q   \n",
       "4  6TdNDKywdbjoTkizeMce8A  UgMW8bLE0QMJDCkQ1Ax5Mg  IS4cv902ykd8wj1TR0N3-A   \n",
       "\n",
       "   stars  useful  funny  cool                 date  \n",
       "0    2.0       5      0     0  2015-04-15 05:21:16  \n",
       "1    1.0       1      1     0  2013-12-07 03:16:52  \n",
       "2    5.0       1      0     0  2015-12-05 03:18:11  \n",
       "3    1.0       0      0     0  2011-05-27 05:30:52  \n",
       "4    4.0       0      0     0  2017-01-14 21:56:57  "
      ]
     },
     "execution_count": 141,
     "metadata": {},
     "output_type": "execute_result"
    }
   ],
   "source": [
    "df_reviews.head()"
   ]
  },
  {
   "cell_type": "code",
   "execution_count": 442,
   "metadata": {},
   "outputs": [],
   "source": [
    "df_reviews_city = df_reviews.merge(df_businesses[['business_id','city']], on='business_id')"
   ]
  },
  {
   "cell_type": "code",
   "execution_count": 443,
   "metadata": {},
   "outputs": [],
   "source": [
    "city_counts = df_reviews_city.groupby('city').review_id.count()"
   ]
  },
  {
   "cell_type": "code",
   "execution_count": 444,
   "metadata": {},
   "outputs": [
    {
     "data": {
      "text/plain": [
       "city\n",
       "Las Vegas                368047\n",
       "Phoenix                  139547\n",
       "Toronto                  125432\n",
       "Scottsdale                63989\n",
       "Charlotte                 58330\n",
       "                          ...  \n",
       "Black Earth                   3\n",
       "RŽpentigny                    3\n",
       "Saint-Basile-le-Grand         3\n",
       "Bellvue                       3\n",
       "Coteau-Du-Lac                 3\n",
       "Name: review_id, Length: 537, dtype: int64"
      ]
     },
     "execution_count": 444,
     "metadata": {},
     "output_type": "execute_result"
    }
   ],
   "source": [
    "city_counts.sort_values(ascending = False)"
   ]
  },
  {
   "cell_type": "code",
   "execution_count": 446,
   "metadata": {},
   "outputs": [
    {
     "data": {
      "image/png": "[encoded data removed]",
      "text/plain": [
       "<Figure size 432x288 with 1 Axes>"
      ]
     },
     "metadata": {
      "needs_background": "light"
     },
     "output_type": "display_data"
    }
   ],
   "source": [
    "city_counts.sort_values(ascending = False)[:20].plot(kind = 'bar');"
   ]
  },
  {
   "cell_type": "code",
   "execution_count": 447,
   "metadata": {},
   "outputs": [],
   "source": [
    "user_counts = df_reviews_city.groupby('city').user_id.nunique()"
   ]
  },
  {
   "cell_type": "code",
   "execution_count": 448,
   "metadata": {},
   "outputs": [
    {
     "data": {
      "image/png": "[encoded data removed]",
      "text/plain": [
       "<Figure size 432x288 with 1 Axes>"
      ]
     },
     "metadata": {
      "needs_background": "light"
     },
     "output_type": "display_data"
    }
   ],
   "source": [
    "user_counts.sort_values(ascending = False)[:20].plot(kind = 'bar');"
   ]
  },
  {
   "cell_type": "code",
   "execution_count": 449,
   "metadata": {},
   "outputs": [],
   "source": [
    "toronto_reviews = df_reviews_city[df_reviews_city.city == 'Toronto']"
   ]
  },
  {
   "cell_type": "code",
   "execution_count": 450,
   "metadata": {},
   "outputs": [
    {
     "data": {
      "text/plain": [
       "(125432, 9)"
      ]
     },
     "execution_count": 450,
     "metadata": {},
     "output_type": "execute_result"
    }
   ],
   "source": [
    "toronto_reviews.shape"
   ]
  },
  {
   "cell_type": "code",
   "execution_count": 451,
   "metadata": {},
   "outputs": [],
   "source": [
    "user_counts = toronto_reviews.groupby('user_id').review_id.count()"
   ]
  },
  {
   "cell_type": "code",
   "execution_count": 452,
   "metadata": {},
   "outputs": [],
   "source": [
    "user_counts[user_counts > 20] = 20"
   ]
  },
  {
   "cell_type": "code",
   "execution_count": 453,
   "metadata": {},
   "outputs": [
    {
     "data": {
      "image/png": "[encoded data removed]",
      "text/plain": [
       "<Figure size 432x288 with 1 Axes>"
      ]
     },
     "metadata": {
      "needs_background": "light"
     },
     "output_type": "display_data"
    }
   ],
   "source": [
    "user_counts.hist(bins = np.arange(21));"
   ]
  },
  {
   "cell_type": "code",
   "execution_count": 454,
   "metadata": {},
   "outputs": [
    {
     "data": {
      "text/plain": [
       "2707"
      ]
     },
     "execution_count": 454,
     "metadata": {},
     "output_type": "execute_result"
    }
   ],
   "source": [
    "toronto_reviews.business_id.nunique()"
   ]
  },
  {
   "cell_type": "code",
   "execution_count": 455,
   "metadata": {},
   "outputs": [
    {
     "data": {
      "text/plain": [
       "49549"
      ]
     },
     "execution_count": 455,
     "metadata": {},
     "output_type": "execute_result"
    }
   ],
   "source": [
    "toronto_reviews.user_id.nunique()"
   ]
  },
  {
   "cell_type": "code",
   "execution_count": 456,
   "metadata": {},
   "outputs": [
    {
     "name": "stderr",
     "output_type": "stream",
     "text": [
      "/Users/paulgstubley/Library/Python/3.7/lib/python/site-packages/ipykernel_launcher.py:2: SettingWithCopyWarning: \n",
      "A value is trying to be set on a copy of a slice from a DataFrame.\n",
      "Try using .loc[row_indexer,col_indexer] = value instead\n",
      "\n",
      "See the caveats in the documentation: https://pandas.pydata.org/pandas-docs/stable/user_guide/indexing.html#returning-a-view-versus-a-copy\n",
      "  \n",
      "/Users/paulgstubley/Library/Python/3.7/lib/python/site-packages/ipykernel_launcher.py:3: SettingWithCopyWarning: \n",
      "A value is trying to be set on a copy of a slice from a DataFrame.\n",
      "Try using .loc[row_indexer,col_indexer] = value instead\n",
      "\n",
      "See the caveats in the documentation: https://pandas.pydata.org/pandas-docs/stable/user_guide/indexing.html#returning-a-view-versus-a-copy\n",
      "  This is separate from the ipykernel package so we can avoid doing imports until\n"
     ]
    }
   ],
   "source": [
    "# Change datetime column from object to date\n",
    "toronto_reviews['year'] = pd.to_datetime(toronto_reviews.date).dt.year\n",
    "toronto_reviews['date'] = pd.to_datetime(toronto_reviews.date).dt.date\n"
   ]
  },
  {
   "cell_type": "code",
   "execution_count": 457,
   "metadata": {
    "scrolled": false
   },
   "outputs": [
    {
     "data": {
      "text/plain": [
       "<matplotlib.axes._subplots.AxesSubplot at 0x2a943ce80>"
      ]
     },
     "execution_count": 457,
     "metadata": {},
     "output_type": "execute_result"
    },
    {
     "data": {
      "image/png": "[encoded data removed]",
      "text/plain": [
       "<Figure size 432x288 with 1 Axes>"
      ]
     },
     "metadata": {
      "needs_background": "light"
     },
     "output_type": "display_data"
    }
   ],
   "source": [
    "toronto_reviews.year.hist(bins=np.arange(2008,2020))"
   ]
  },
  {
   "cell_type": "code",
   "execution_count": 458,
   "metadata": {},
   "outputs": [
    {
     "data": {
      "text/plain": [
       "2017    19097\n",
       "2018    18368\n",
       "2016    17955\n",
       "2015    15966\n",
       "2019    14750\n",
       "2014    11821\n",
       "2013     8788\n",
       "2012     6806\n",
       "2011     5668\n",
       "2010     3799\n",
       "2009     1910\n",
       "2008      504\n",
       "Name: year, dtype: int64"
      ]
     },
     "execution_count": 458,
     "metadata": {},
     "output_type": "execute_result"
    }
   ],
   "source": [
    "toronto_reviews.year.value_counts()"
   ]
  },
  {
   "cell_type": "code",
   "execution_count": 501,
   "metadata": {},
   "outputs": [],
   "source": [
    "toronto_reviews_sub = toronto_reviews[toronto_reviews.year>2014]\n"
   ]
  },
  {
   "cell_type": "code",
   "execution_count": 502,
   "metadata": {},
   "outputs": [],
   "source": [
    "user_counts = toronto_reviews_sub[toronto_reviews_sub.year<2019].groupby('user_id').review_id.count()\n"
   ]
  },
  {
   "cell_type": "code",
   "execution_count": 503,
   "metadata": {},
   "outputs": [
    {
     "data": {
      "image/png": "[encoded data removed]",
      "text/plain": [
       "<Figure size 720x720 with 1 Axes>"
      ]
     },
     "metadata": {
      "needs_background": "light"
     },
     "output_type": "display_data"
    }
   ],
   "source": [
    "# How are the reviews made up?  The vast majority come from users who reviews just once.\n",
    "# These users won't be much use for SVD.  We can see that ~10_000 users have more than \n",
    "# who have reviewed 5 or more times, I will use just these ones to begin with.\n",
    "user_counts.hist(histtype='step',cumulative=-1, bins=np.arange(1,50), figsize = (10,10))\n",
    "\n",
    "number_of_reviews = []\n",
    "\n",
    "for n in range(0,51,5):\n",
    "    top_users = user_counts[user_counts>=n].index\n",
    "    number_of_reviews.append([n,toronto_reviews_sub[(toronto_reviews_sub.year<2019) & (toronto_reviews_sub.user_id.isin(top_users))].shape[0]])\n",
    "\n",
    "number_of_reviews = np.array(number_of_reviews)\n",
    "    "
   ]
  },
  {
   "cell_type": "code",
   "execution_count": 504,
   "metadata": {},
   "outputs": [
    {
     "data": {
      "text/plain": [
       "array([[    0, 71386],\n",
       "       [    5, 28995],\n",
       "       [   10, 17941],\n",
       "       [   15, 11709],\n",
       "       [   20,  8029],\n",
       "       [   25,  5712],\n",
       "       [   30,  4304],\n",
       "       [   35,  3302],\n",
       "       [   40,  2387],\n",
       "       [   45,  1806],\n",
       "       [   50,  1524]])"
      ]
     },
     "execution_count": 504,
     "metadata": {},
     "output_type": "execute_result"
    }
   ],
   "source": [
    "number_of_reviews"
   ]
  },
  {
   "cell_type": "code",
   "execution_count": 539,
   "metadata": {},
   "outputs": [
    {
     "data": {
      "image/png": "[encoded data removed]",
      "text/plain": [
       "<Figure size 432x288 with 1 Axes>"
      ]
     },
     "metadata": {
      "needs_background": "light"
     },
     "output_type": "display_data"
    }
   ],
   "source": [
    "plt.plot(number_of_reviews[:,0],number_of_reviews[:,1])\n",
    "plt.ylabel('Review posts by users who\\npost more than x reviews\\n(reverse cumulative)')\n",
    "plt.xlabel('Users who post more than x reviews');\n",
    "# Who is defined as a power_user\n",
    "keep = 10\n",
    "keep_id = int(keep/5)\n",
    "plt.annotate(s = '{} reviews pre 2019'.format(number_of_reviews[keep_id,1])\n",
    "             , xy = (number_of_reviews[keep_id,0],number_of_reviews[keep_id,1])\n",
    "             , xytext = (number_of_reviews[keep_id+1,0],number_of_reviews[keep_id-1,1])\n",
    "             , arrowprops = {'arrowstyle': 'simple'});\n"
   ]
  },
  {
   "cell_type": "code",
   "execution_count": 523,
   "metadata": {},
   "outputs": [],
   "source": [
    "# Cut the review df to just those users who've made 20 or more reviews between 2014-2018 inc\n",
    "top_users = user_counts[user_counts>=keep]\n",
    "toronto_reviews_sub = toronto_reviews_sub[toronto_reviews_sub.user_id.isin(top_users.index)]"
   ]
  },
  {
   "cell_type": "code",
   "execution_count": 600,
   "metadata": {},
   "outputs": [
    {
     "name": "stdout",
     "output_type": "stream",
     "text": [
      "1019 power users with 20390 reviews (2015-19) for 1943 restaurants\n"
     ]
    }
   ],
   "source": [
    "print('{} power users with {} reviews (2015-19) for {} restaurants'.format(len(top_users), toronto_reviews_sub.shape[0],  toronto_reviews_sub.business_id.nunique()))\n"
   ]
  },
  {
   "cell_type": "code",
   "execution_count": 613,
   "metadata": {},
   "outputs": [
    {
     "data": {
      "image/png": "[encoded data removed]",
      "text/plain": [
       "<Figure size 792x576 with 4 Axes>"
      ]
     },
     "metadata": {
      "needs_background": "light"
     },
     "output_type": "display_data"
    }
   ],
   "source": [
    "def format_chart(ax, title, xlabel, ylabel):\n",
    "    ax.set_title(title)\n",
    "    ax.set_xlabel(xlabel)\n",
    "    ax.set_ylabel(ylabel)\n",
    "    ax.grid('')\n",
    "    ax.spines['right'].set_visible(False)\n",
    "    ax.spines['top'].set_visible(False)\n",
    "\n",
    "fig,ax = plt.subplots(2,2, figsize = (11,8))\n",
    "fig.tight_layout(pad = 5.0)\n",
    "\n",
    "toronto_reviews_sub.stars.hist(bins=range(6), color = 'darkgreen', ax=ax[0][0], alpha=0.6, edgeColor = 'darkgreen')\n",
    "format_chart(ax[0][0], 'Distribution of star ratings','Stars','Reviews')\n",
    "\n",
    "toronto_reviews_sub.year.hist(bins = np.arange(2014,2021,1), ax=ax[0][1] , alpha = 0.6, color = 'purple', edgeColor = 'purple')\n",
    "format_chart(ax[0][1], 'Distribution of reviews through time','Year','Reviews')\n",
    "\n",
    "user_counts.hist(bins = np.arange(0,51,5), ax=ax[1][0], color = 'darkred', alpha = 0.6, edgeColor = 'darkred')\n",
    "format_chart(ax[1][0], 'Count of Users placing X reviews','Reviews','Count of Users')\n",
    "\n",
    "business_counts = toronto_reviews_sub.groupby('business_id').review_id.count()\n",
    "business_counts[business_counts > 20] = 20      \n",
    "\n",
    "business_counts.hist(bins = np.arange(21), ax=ax[1][1], color = 'darkblue', alpha = 0.6, edgeColor = 'darkblue')\n",
    "format_chart(ax[1][1], 'Count of Restaurants with X reviews','Reviews','Count of Restaurants')"
   ]
  },
  {
   "cell_type": "markdown",
   "metadata": {},
   "source": [
    "# Plan of attack\n",
    "- Clean\n",
    "    - [x] Date to date column \n",
    "    - [x] Select only users who've had more than 20 reviews (should be a few thousand)\n",
    "    - [ ] Output to pickle/json\n",
    "    - [ ] Duplicates\n",
    "    - [x] NaNs\n",
    "    - [x] Outlying dates/stars\n",
    "- EDA\n",
    "    - [ ] Most reviewed restaurants, can we cut out restaurants with few reviews and come back to them later?\n",
    "    - [ ] Most prolific users\n",
    "    - [ ] Plot restaurants on heatmap and on clustered point map in prep for knowledge based search.\n",
    "    - [ ] How many times were restaurants reviewed by the same person more than once.  Keep the most recent review?\n",
    "- FunkSVD\n",
    "    - [ ] Train test\n",
    "    - [ ] Exectute\n",
    "    - [ ] Score on unseen data\n",
    "- Edge cases\n",
    "    - [ ] Cold start for users\n",
    "    - [ ] Cold start for restaurants\n",
    "- Recommendations\n",
    "    - [ ] Best predicted ratings from FunkSVD for powerusers\n",
    "    - [ ] Top in area for new users\n",
    "    - [ ] Possibly implement knowledge based on extra features of restaurants"
   ]
  },
  {
   "cell_type": "code",
   "execution_count": null,
   "metadata": {},
   "outputs": [],
   "source": []
  }
 ],
 "metadata": {
  "kernelspec": {
   "display_name": "Python 3",
   "language": "python",
   "name": "python3"
  },
  "language_info": {
   "codemirror_mode": {
    "name": "ipython",
    "version": 3
   },
   "file_extension": ".py",
   "mimetype": "text/x-python",
   "name": "python",
   "nbconvert_exporter": "python",
   "pygments_lexer": "ipython3",
   "version": "3.7.3"
  }
 },
 "nbformat": 4,
 "nbformat_minor": 2
}
