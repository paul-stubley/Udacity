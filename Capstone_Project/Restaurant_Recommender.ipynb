{
 "cells": [
  {
   "cell_type": "markdown",
   "metadata": {},
   "source": [
    "# Restaurant Recommender"
   ]
  },
  {
   "cell_type": "markdown",
   "metadata": {},
   "source": [
    "## Table of Contents\n",
    "\n",
    "1. [Plan of attack](#Plan-of-attack)<br>\n",
    "2. [Loading data](#Loading)<br>\n",
    "3. [Initial FunkSVD Model](#Initial-FunkSVD-Model)<br>"
   ]
  },
  {
   "cell_type": "markdown",
   "metadata": {},
   "source": [
    "### <a class=\"anchor\" id=\"Plan-of-attack\">Plan of Attack </a>\n",
    "\n",
    "- Clean\n",
    "    - [x] Date to date column \n",
    "    - [x] Select only users who've had more than 20 reviews (should be a few thousand)\n",
    "    - [ ] Output to pickle/json\n",
    "    - [ ] Duplicates\n",
    "    - [x] NaNs\n",
    "    - [x] Outlying dates/stars\n",
    "- EDA\n",
    "    - [ ] Most reviewed restaurants, can we cut out restaurants with few reviews and come back to them later?\n",
    "    - [ ] Most prolific users\n",
    "    - [ ] Plot restaurants on heatmap and on clustered point map in prep for knowledge based search.\n",
    "    - [ ] How many times were restaurants reviewed by the same person more than once.  Keep the most recent review?\n",
    "- FunkSVD\n",
    "    - [ ] Train test\n",
    "    - [ ] Exectute\n",
    "    - [ ] Score on unseen data\n",
    "    - [ ] Use [numba version](https://github.com/gbolmier/funk-svd) of FunkSVD to speed up runtime\n",
    "- Edge cases\n",
    "    - [ ] Cold start for users\n",
    "    - [ ] Cold start for restaurants\n",
    "- Recommendations\n",
    "    - [ ] Best predicted ratings from FunkSVD for powerusers\n",
    "    - [ ] Top in area for new users\n",
    "    - [ ] Possibly implement knowledge based on extra features of restaurants"
   ]
  },
  {
   "cell_type": "markdown",
   "metadata": {},
   "source": [
    "### <a class=\"anchor\" id=\"Loading\"> Loading Data </a>"
   ]
  },
  {
   "cell_type": "code",
   "execution_count": 644,
   "metadata": {},
   "outputs": [],
   "source": [
    "import pandas as pd\n",
    "import numpy as np\n",
    "import json\n",
    "import matplotlib.pyplot as plt\n",
    "import seaborn as sns\n",
    "import time"
   ]
  },
  {
   "cell_type": "code",
   "execution_count": 138,
   "metadata": {},
   "outputs": [],
   "source": [
    "def pick_lines_and_load(line):\n",
    "    '''\n",
    "    Args:\n",
    "    Returns:\n",
    "    '''\n",
    "    line_json = json.loads(line)\n",
    "    line = dict( [k,v] for k,v in line_json.items() if k in columns_to_keep) \n",
    "    return line\n",
    "    \n",
    "def read_in_json(filepath):\n",
    "    '''The Yelp json files are one json per row, so \n",
    "    Args:\n",
    "    Returns:\n",
    "    \n",
    "    '''\n",
    "    with open(filepath) as json_file:      \n",
    "        data = json_file.readlines()\n",
    "        data = list(map(pick_lines_and_load, data)) \n",
    "\n",
    "    return pd.DataFrame(data)\n",
    "\n",
    "def get_file_structure(filepath):\n",
    "    '''Gets the file structure of the input file by reading a single line \n",
    "    Args:\n",
    "    Returns:\n",
    "    \n",
    "    '''\n",
    "    with open(filepath) as json_file:      \n",
    "        data = json_file.readlines(1)\n",
    "        data = list(map(json.loads, data)) \n",
    "\n",
    "    return pd.DataFrame(data)"
   ]
  },
  {
   "cell_type": "code",
   "execution_count": 390,
   "metadata": {},
   "outputs": [],
   "source": [
    "get_file_structure('../../../YelpData/yelp_academic_dataset_business.json')\n",
    "columns_to_keep = ['business_id','name','city','latitude','longitude','review_count','categories']"
   ]
  },
  {
   "cell_type": "code",
   "execution_count": 391,
   "metadata": {},
   "outputs": [],
   "source": [
    "df_businesses = read_in_json('../../../YelpData/yelp_academic_dataset_business.json')\n",
    "\n"
   ]
  },
  {
   "cell_type": "code",
   "execution_count": 392,
   "metadata": {},
   "outputs": [
    {
     "data": {
      "text/html": [
       "<div>\n",
       "<style scoped>\n",
       "    .dataframe tbody tr th:only-of-type {\n",
       "        vertical-align: middle;\n",
       "    }\n",
       "\n",
       "    .dataframe tbody tr th {\n",
       "        vertical-align: top;\n",
       "    }\n",
       "\n",
       "    .dataframe thead th {\n",
       "        text-align: right;\n",
       "    }\n",
       "</style>\n",
       "<table border=\"1\" class=\"dataframe\">\n",
       "  <thead>\n",
       "    <tr style=\"text-align: right;\">\n",
       "      <th></th>\n",
       "      <th>business_id</th>\n",
       "      <th>name</th>\n",
       "      <th>city</th>\n",
       "      <th>latitude</th>\n",
       "      <th>longitude</th>\n",
       "      <th>review_count</th>\n",
       "      <th>categories</th>\n",
       "    </tr>\n",
       "  </thead>\n",
       "  <tbody>\n",
       "    <tr>\n",
       "      <th>0</th>\n",
       "      <td>f9NumwFMBDn751xgFiRbNA</td>\n",
       "      <td>The Range At Lake Norman</td>\n",
       "      <td>Cornelius</td>\n",
       "      <td>35.462724</td>\n",
       "      <td>-80.852612</td>\n",
       "      <td>36</td>\n",
       "      <td>Active Life, Gun/Rifle Ranges, Guns &amp; Ammo, Sh...</td>\n",
       "    </tr>\n",
       "    <tr>\n",
       "      <th>1</th>\n",
       "      <td>Yzvjg0SayhoZgCljUJRF9Q</td>\n",
       "      <td>Carlos Santo, NMD</td>\n",
       "      <td>Scottsdale</td>\n",
       "      <td>33.569404</td>\n",
       "      <td>-111.890264</td>\n",
       "      <td>4</td>\n",
       "      <td>Health &amp; Medical, Fitness &amp; Instruction, Yoga,...</td>\n",
       "    </tr>\n",
       "    <tr>\n",
       "      <th>2</th>\n",
       "      <td>XNoUzKckATkOD1hP6vghZg</td>\n",
       "      <td>Felinus</td>\n",
       "      <td>Montreal</td>\n",
       "      <td>45.479984</td>\n",
       "      <td>-73.580070</td>\n",
       "      <td>5</td>\n",
       "      <td>Pets, Pet Services, Pet Groomers</td>\n",
       "    </tr>\n",
       "    <tr>\n",
       "      <th>3</th>\n",
       "      <td>6OAZjbxqM5ol29BuHsil3w</td>\n",
       "      <td>Nevada House of Hose</td>\n",
       "      <td>North Las Vegas</td>\n",
       "      <td>36.219728</td>\n",
       "      <td>-115.127725</td>\n",
       "      <td>3</td>\n",
       "      <td>Hardware Stores, Home Services, Building Suppl...</td>\n",
       "    </tr>\n",
       "    <tr>\n",
       "      <th>4</th>\n",
       "      <td>51M2Kk903DFYI6gnB5I6SQ</td>\n",
       "      <td>USE MY GUY SERVICES LLC</td>\n",
       "      <td>Mesa</td>\n",
       "      <td>33.428065</td>\n",
       "      <td>-111.726648</td>\n",
       "      <td>26</td>\n",
       "      <td>Home Services, Plumbing, Electricians, Handyma...</td>\n",
       "    </tr>\n",
       "  </tbody>\n",
       "</table>\n",
       "</div>"
      ],
      "text/plain": [
       "              business_id                      name             city  \\\n",
       "0  f9NumwFMBDn751xgFiRbNA  The Range At Lake Norman        Cornelius   \n",
       "1  Yzvjg0SayhoZgCljUJRF9Q         Carlos Santo, NMD       Scottsdale   \n",
       "2  XNoUzKckATkOD1hP6vghZg                   Felinus         Montreal   \n",
       "3  6OAZjbxqM5ol29BuHsil3w      Nevada House of Hose  North Las Vegas   \n",
       "4  51M2Kk903DFYI6gnB5I6SQ   USE MY GUY SERVICES LLC             Mesa   \n",
       "\n",
       "    latitude   longitude  review_count  \\\n",
       "0  35.462724  -80.852612            36   \n",
       "1  33.569404 -111.890264             4   \n",
       "2  45.479984  -73.580070             5   \n",
       "3  36.219728 -115.127725             3   \n",
       "4  33.428065 -111.726648            26   \n",
       "\n",
       "                                          categories  \n",
       "0  Active Life, Gun/Rifle Ranges, Guns & Ammo, Sh...  \n",
       "1  Health & Medical, Fitness & Instruction, Yoga,...  \n",
       "2                   Pets, Pet Services, Pet Groomers  \n",
       "3  Hardware Stores, Home Services, Building Suppl...  \n",
       "4  Home Services, Plumbing, Electricians, Handyma...  "
      ]
     },
     "execution_count": 392,
     "metadata": {},
     "output_type": "execute_result"
    }
   ],
   "source": [
    "df_businesses.head()"
   ]
  },
  {
   "cell_type": "code",
   "execution_count": 426,
   "metadata": {},
   "outputs": [
    {
     "data": {
      "text/plain": [
       "business_id     0.000000\n",
       "name            0.000000\n",
       "city            0.000000\n",
       "latitude        0.000000\n",
       "longitude       0.000000\n",
       "review_count    0.000000\n",
       "categories      0.002502\n",
       "dtype: float64"
      ]
     },
     "execution_count": 426,
     "metadata": {},
     "output_type": "execute_result"
    }
   ],
   "source": [
    "# How many nulls in each columns?\n",
    "df_businesses.isna().mean()"
   ]
  },
  {
   "cell_type": "code",
   "execution_count": 430,
   "metadata": {},
   "outputs": [
    {
     "data": {
      "text/plain": [
       "business_id     0.0\n",
       "name            0.0\n",
       "city            0.0\n",
       "latitude        0.0\n",
       "longitude       0.0\n",
       "review_count    0.0\n",
       "categories      0.0\n",
       "dtype: float64"
      ]
     },
     "execution_count": 430,
     "metadata": {},
     "output_type": "execute_result"
    }
   ],
   "source": [
    "# Drop businesses without a category\n",
    "df_businesses.dropna(subset = ['categories'], inplace=True)\n",
    "df_businesses.isna().mean()"
   ]
  },
  {
   "cell_type": "code",
   "execution_count": 431,
   "metadata": {},
   "outputs": [],
   "source": [
    "categories = df_businesses.categories.str.split(',').explode().str.strip()"
   ]
  },
  {
   "cell_type": "code",
   "execution_count": 432,
   "metadata": {
    "scrolled": true
   },
   "outputs": [
    {
     "data": {
      "image/png": "[encoded data removed]",
      "text/plain": [
       "<Figure size 432x288 with 1 Axes>"
      ]
     },
     "metadata": {
      "needs_background": "light"
     },
     "output_type": "display_data"
    }
   ],
   "source": [
    "categories.value_counts()[:10].plot(kind='bar');"
   ]
  },
  {
   "cell_type": "code",
   "execution_count": 616,
   "metadata": {},
   "outputs": [
    {
     "data": {
      "text/plain": [
       "(19456, 7)"
      ]
     },
     "execution_count": 616,
     "metadata": {},
     "output_type": "execute_result"
    }
   ],
   "source": [
    "# Keep only business which contain Restaurant in their category list\n",
    "df_businesses = df_businesses[df_businesses.categories.str.split(',').apply(lambda x: 'Restaurants' in x)]\n",
    "df_businesses.shape"
   ]
  },
  {
   "cell_type": "code",
   "execution_count": 618,
   "metadata": {},
   "outputs": [],
   "source": [
    "df_businesses_toronto = df_businesses[df_businesses.city == 'Toronto']"
   ]
  },
  {
   "cell_type": "code",
   "execution_count": 135,
   "metadata": {},
   "outputs": [],
   "source": [
    "review_filepath = '../../../YelpData/yelp_academic_dataset_review.json'\n",
    "get_file_structure(review_filepath)\n",
    "columns_to_keep = ['review_id','user_id','business_id','stars','useful','funny','cool','date']"
   ]
  },
  {
   "cell_type": "markdown",
   "metadata": {},
   "source": [
    "df_reviews = read_in_json(review_filepath)"
   ]
  },
  {
   "cell_type": "code",
   "execution_count": 141,
   "metadata": {},
   "outputs": [
    {
     "data": {
      "text/html": [
       "<div>\n",
       "<style scoped>\n",
       "    .dataframe tbody tr th:only-of-type {\n",
       "        vertical-align: middle;\n",
       "    }\n",
       "\n",
       "    .dataframe tbody tr th {\n",
       "        vertical-align: top;\n",
       "    }\n",
       "\n",
       "    .dataframe thead th {\n",
       "        text-align: right;\n",
       "    }\n",
       "</style>\n",
       "<table border=\"1\" class=\"dataframe\">\n",
       "  <thead>\n",
       "    <tr style=\"text-align: right;\">\n",
       "      <th></th>\n",
       "      <th>review_id</th>\n",
       "      <th>user_id</th>\n",
       "      <th>business_id</th>\n",
       "      <th>stars</th>\n",
       "      <th>useful</th>\n",
       "      <th>funny</th>\n",
       "      <th>cool</th>\n",
       "      <th>date</th>\n",
       "    </tr>\n",
       "  </thead>\n",
       "  <tbody>\n",
       "    <tr>\n",
       "      <th>0</th>\n",
       "      <td>xQY8N_XvtGbearJ5X4QryQ</td>\n",
       "      <td>OwjRMXRC0KyPrIlcjaXeFQ</td>\n",
       "      <td>-MhfebM0QIsKt87iDN-FNw</td>\n",
       "      <td>2.0</td>\n",
       "      <td>5</td>\n",
       "      <td>0</td>\n",
       "      <td>0</td>\n",
       "      <td>2015-04-15 05:21:16</td>\n",
       "    </tr>\n",
       "    <tr>\n",
       "      <th>1</th>\n",
       "      <td>UmFMZ8PyXZTY2QcwzsfQYA</td>\n",
       "      <td>nIJD_7ZXHq-FX8byPMOkMQ</td>\n",
       "      <td>lbrU8StCq3yDfr-QMnGrmQ</td>\n",
       "      <td>1.0</td>\n",
       "      <td>1</td>\n",
       "      <td>1</td>\n",
       "      <td>0</td>\n",
       "      <td>2013-12-07 03:16:52</td>\n",
       "    </tr>\n",
       "    <tr>\n",
       "      <th>2</th>\n",
       "      <td>LG2ZaYiOgpr2DK_90pYjNw</td>\n",
       "      <td>V34qejxNsCbcgD8C0HVk-Q</td>\n",
       "      <td>HQl28KMwrEKHqhFrrDqVNQ</td>\n",
       "      <td>5.0</td>\n",
       "      <td>1</td>\n",
       "      <td>0</td>\n",
       "      <td>0</td>\n",
       "      <td>2015-12-05 03:18:11</td>\n",
       "    </tr>\n",
       "    <tr>\n",
       "      <th>3</th>\n",
       "      <td>i6g_oA9Yf9Y31qt0wibXpw</td>\n",
       "      <td>ofKDkJKXSKZXu5xJNGiiBQ</td>\n",
       "      <td>5JxlZaqCnk1MnbgRirs40Q</td>\n",
       "      <td>1.0</td>\n",
       "      <td>0</td>\n",
       "      <td>0</td>\n",
       "      <td>0</td>\n",
       "      <td>2011-05-27 05:30:52</td>\n",
       "    </tr>\n",
       "    <tr>\n",
       "      <th>4</th>\n",
       "      <td>6TdNDKywdbjoTkizeMce8A</td>\n",
       "      <td>UgMW8bLE0QMJDCkQ1Ax5Mg</td>\n",
       "      <td>IS4cv902ykd8wj1TR0N3-A</td>\n",
       "      <td>4.0</td>\n",
       "      <td>0</td>\n",
       "      <td>0</td>\n",
       "      <td>0</td>\n",
       "      <td>2017-01-14 21:56:57</td>\n",
       "    </tr>\n",
       "  </tbody>\n",
       "</table>\n",
       "</div>"
      ],
      "text/plain": [
       "                review_id                 user_id             business_id  \\\n",
       "0  xQY8N_XvtGbearJ5X4QryQ  OwjRMXRC0KyPrIlcjaXeFQ  -MhfebM0QIsKt87iDN-FNw   \n",
       "1  UmFMZ8PyXZTY2QcwzsfQYA  nIJD_7ZXHq-FX8byPMOkMQ  lbrU8StCq3yDfr-QMnGrmQ   \n",
       "2  LG2ZaYiOgpr2DK_90pYjNw  V34qejxNsCbcgD8C0HVk-Q  HQl28KMwrEKHqhFrrDqVNQ   \n",
       "3  i6g_oA9Yf9Y31qt0wibXpw  ofKDkJKXSKZXu5xJNGiiBQ  5JxlZaqCnk1MnbgRirs40Q   \n",
       "4  6TdNDKywdbjoTkizeMce8A  UgMW8bLE0QMJDCkQ1Ax5Mg  IS4cv902ykd8wj1TR0N3-A   \n",
       "\n",
       "   stars  useful  funny  cool                 date  \n",
       "0    2.0       5      0     0  2015-04-15 05:21:16  \n",
       "1    1.0       1      1     0  2013-12-07 03:16:52  \n",
       "2    5.0       1      0     0  2015-12-05 03:18:11  \n",
       "3    1.0       0      0     0  2011-05-27 05:30:52  \n",
       "4    4.0       0      0     0  2017-01-14 21:56:57  "
      ]
     },
     "execution_count": 141,
     "metadata": {},
     "output_type": "execute_result"
    }
   ],
   "source": [
    "df_reviews.head()"
   ]
  },
  {
   "cell_type": "code",
   "execution_count": 442,
   "metadata": {},
   "outputs": [],
   "source": [
    "df_reviews_city = df_reviews.merge(df_businesses[['business_id','city']], on='business_id')"
   ]
  },
  {
   "cell_type": "code",
   "execution_count": 443,
   "metadata": {},
   "outputs": [],
   "source": [
    "city_counts = df_reviews_city.groupby('city').review_id.count()"
   ]
  },
  {
   "cell_type": "code",
   "execution_count": 444,
   "metadata": {},
   "outputs": [
    {
     "data": {
      "text/plain": [
       "city\n",
       "Las Vegas                368047\n",
       "Phoenix                  139547\n",
       "Toronto                  125432\n",
       "Scottsdale                63989\n",
       "Charlotte                 58330\n",
       "                          ...  \n",
       "Black Earth                   3\n",
       "RŽpentigny                    3\n",
       "Saint-Basile-le-Grand         3\n",
       "Bellvue                       3\n",
       "Coteau-Du-Lac                 3\n",
       "Name: review_id, Length: 537, dtype: int64"
      ]
     },
     "execution_count": 444,
     "metadata": {},
     "output_type": "execute_result"
    }
   ],
   "source": [
    "city_counts.sort_values(ascending = False)"
   ]
  },
  {
   "cell_type": "code",
   "execution_count": 446,
   "metadata": {},
   "outputs": [
    {
     "data": {
      "image/png": "[encoded data removed]",
      "text/plain": [
       "<Figure size 432x288 with 1 Axes>"
      ]
     },
     "metadata": {
      "needs_background": "light"
     },
     "output_type": "display_data"
    }
   ],
   "source": [
    "city_counts.sort_values(ascending = False)[:20].plot(kind = 'bar');"
   ]
  },
  {
   "cell_type": "code",
   "execution_count": 447,
   "metadata": {},
   "outputs": [],
   "source": [
    "user_counts = df_reviews_city.groupby('city').user_id.nunique()"
   ]
  },
  {
   "cell_type": "code",
   "execution_count": 448,
   "metadata": {},
   "outputs": [
    {
     "data": {
      "image/png": "[encoded data removed]",
      "text/plain": [
       "<Figure size 432x288 with 1 Axes>"
      ]
     },
     "metadata": {
      "needs_background": "light"
     },
     "output_type": "display_data"
    }
   ],
   "source": [
    "user_counts.sort_values(ascending = False)[:20].plot(kind = 'bar');"
   ]
  },
  {
   "cell_type": "code",
   "execution_count": 449,
   "metadata": {},
   "outputs": [],
   "source": [
    "toronto_reviews = df_reviews_city[df_reviews_city.city == 'Toronto']"
   ]
  },
  {
   "cell_type": "code",
   "execution_count": 450,
   "metadata": {},
   "outputs": [
    {
     "data": {
      "text/plain": [
       "(125432, 9)"
      ]
     },
     "execution_count": 450,
     "metadata": {},
     "output_type": "execute_result"
    }
   ],
   "source": [
    "toronto_reviews.shape"
   ]
  },
  {
   "cell_type": "code",
   "execution_count": 451,
   "metadata": {},
   "outputs": [],
   "source": [
    "user_counts = toronto_reviews.groupby('user_id').review_id.count()"
   ]
  },
  {
   "cell_type": "code",
   "execution_count": 452,
   "metadata": {},
   "outputs": [],
   "source": [
    "user_counts[user_counts > 20] = 20"
   ]
  },
  {
   "cell_type": "code",
   "execution_count": 453,
   "metadata": {},
   "outputs": [
    {
     "data": {
      "image/png": "[encoded data removed]",
      "text/plain": [
       "<Figure size 432x288 with 1 Axes>"
      ]
     },
     "metadata": {
      "needs_background": "light"
     },
     "output_type": "display_data"
    }
   ],
   "source": [
    "user_counts.hist(bins = np.arange(21));"
   ]
  },
  {
   "cell_type": "code",
   "execution_count": 454,
   "metadata": {},
   "outputs": [
    {
     "data": {
      "text/plain": [
       "2707"
      ]
     },
     "execution_count": 454,
     "metadata": {},
     "output_type": "execute_result"
    }
   ],
   "source": [
    "toronto_reviews.business_id.nunique()"
   ]
  },
  {
   "cell_type": "code",
   "execution_count": 455,
   "metadata": {},
   "outputs": [
    {
     "data": {
      "text/plain": [
       "49549"
      ]
     },
     "execution_count": 455,
     "metadata": {},
     "output_type": "execute_result"
    }
   ],
   "source": [
    "toronto_reviews.user_id.nunique()"
   ]
  },
  {
   "cell_type": "code",
   "execution_count": 456,
   "metadata": {},
   "outputs": [
    {
     "name": "stderr",
     "output_type": "stream",
     "text": [
      "/Users/paulgstubley/Library/Python/3.7/lib/python/site-packages/ipykernel_launcher.py:2: SettingWithCopyWarning: \n",
      "A value is trying to be set on a copy of a slice from a DataFrame.\n",
      "Try using .loc[row_indexer,col_indexer] = value instead\n",
      "\n",
      "See the caveats in the documentation: https://pandas.pydata.org/pandas-docs/stable/user_guide/indexing.html#returning-a-view-versus-a-copy\n",
      "  \n",
      "/Users/paulgstubley/Library/Python/3.7/lib/python/site-packages/ipykernel_launcher.py:3: SettingWithCopyWarning: \n",
      "A value is trying to be set on a copy of a slice from a DataFrame.\n",
      "Try using .loc[row_indexer,col_indexer] = value instead\n",
      "\n",
      "See the caveats in the documentation: https://pandas.pydata.org/pandas-docs/stable/user_guide/indexing.html#returning-a-view-versus-a-copy\n",
      "  This is separate from the ipykernel package so we can avoid doing imports until\n"
     ]
    }
   ],
   "source": [
    "# Change datetime column from object to date\n",
    "toronto_reviews['year'] = pd.to_datetime(toronto_reviews.date).dt.year\n",
    "toronto_reviews['date'] = pd.to_datetime(toronto_reviews.date).dt.date\n"
   ]
  },
  {
   "cell_type": "code",
   "execution_count": 457,
   "metadata": {
    "scrolled": false
   },
   "outputs": [
    {
     "data": {
      "text/plain": [
       "<matplotlib.axes._subplots.AxesSubplot at 0x2a943ce80>"
      ]
     },
     "execution_count": 457,
     "metadata": {},
     "output_type": "execute_result"
    },
    {
     "data": {
      "image/png": "[encoded data removed]",
      "text/plain": [
       "<Figure size 432x288 with 1 Axes>"
      ]
     },
     "metadata": {
      "needs_background": "light"
     },
     "output_type": "display_data"
    }
   ],
   "source": [
    "toronto_reviews.year.hist(bins=np.arange(2008,2020))"
   ]
  },
  {
   "cell_type": "code",
   "execution_count": 458,
   "metadata": {},
   "outputs": [
    {
     "data": {
      "text/plain": [
       "2017    19097\n",
       "2018    18368\n",
       "2016    17955\n",
       "2015    15966\n",
       "2019    14750\n",
       "2014    11821\n",
       "2013     8788\n",
       "2012     6806\n",
       "2011     5668\n",
       "2010     3799\n",
       "2009     1910\n",
       "2008      504\n",
       "Name: year, dtype: int64"
      ]
     },
     "execution_count": 458,
     "metadata": {},
     "output_type": "execute_result"
    }
   ],
   "source": [
    "toronto_reviews.year.value_counts()"
   ]
  },
  {
   "cell_type": "code",
   "execution_count": 501,
   "metadata": {},
   "outputs": [],
   "source": [
    "toronto_reviews_sub = toronto_reviews[toronto_reviews.year>2014]\n"
   ]
  },
  {
   "cell_type": "code",
   "execution_count": 502,
   "metadata": {},
   "outputs": [],
   "source": [
    "user_counts = toronto_reviews_sub[toronto_reviews_sub.year<2019].groupby('user_id').review_id.count()\n"
   ]
  },
  {
   "cell_type": "code",
   "execution_count": 503,
   "metadata": {},
   "outputs": [
    {
     "data": {
      "image/png": "[encoded data removed]",
      "text/plain": [
       "<Figure size 720x720 with 1 Axes>"
      ]
     },
     "metadata": {
      "needs_background": "light"
     },
     "output_type": "display_data"
    }
   ],
   "source": [
    "# How are the reviews made up?  The vast majority come from users who reviews just once.\n",
    "# These users won't be much use for SVD.  We can see that ~10_000 users have more than \n",
    "# who have reviewed 5 or more times, I will use just these ones to begin with.\n",
    "user_counts.hist(histtype='step',cumulative=-1, bins=np.arange(1,50), figsize = (10,10))\n",
    "\n",
    "number_of_reviews = []\n",
    "\n",
    "for n in range(0,51,5):\n",
    "    top_users = user_counts[user_counts>=n].index\n",
    "    number_of_reviews.append([n,toronto_reviews_sub[(toronto_reviews_sub.year<2019) & (toronto_reviews_sub.user_id.isin(top_users))].shape[0]])\n",
    "\n",
    "number_of_reviews = np.array(number_of_reviews)\n",
    "    "
   ]
  },
  {
   "cell_type": "code",
   "execution_count": 504,
   "metadata": {},
   "outputs": [
    {
     "data": {
      "text/plain": [
       "array([[    0, 71386],\n",
       "       [    5, 28995],\n",
       "       [   10, 17941],\n",
       "       [   15, 11709],\n",
       "       [   20,  8029],\n",
       "       [   25,  5712],\n",
       "       [   30,  4304],\n",
       "       [   35,  3302],\n",
       "       [   40,  2387],\n",
       "       [   45,  1806],\n",
       "       [   50,  1524]])"
      ]
     },
     "execution_count": 504,
     "metadata": {},
     "output_type": "execute_result"
    }
   ],
   "source": [
    "number_of_reviews"
   ]
  },
  {
   "cell_type": "code",
   "execution_count": 539,
   "metadata": {},
   "outputs": [
    {
     "data": {
      "image/png": "[encoded data removed]",
      "text/plain": [
       "<Figure size 432x288 with 1 Axes>"
      ]
     },
     "metadata": {
      "needs_background": "light"
     },
     "output_type": "display_data"
    }
   ],
   "source": [
    "plt.plot(number_of_reviews[:,0],number_of_reviews[:,1])\n",
    "plt.ylabel('Review posts by users who\\npost more than x reviews\\n(reverse cumulative)')\n",
    "plt.xlabel('Users who post more than x reviews');\n",
    "# Who is defined as a power_user\n",
    "keep = 10\n",
    "keep_id = int(keep/5)\n",
    "plt.annotate(s = '{} reviews pre 2019'.format(number_of_reviews[keep_id,1])\n",
    "             , xy = (number_of_reviews[keep_id,0],number_of_reviews[keep_id,1])\n",
    "             , xytext = (number_of_reviews[keep_id+1,0],number_of_reviews[keep_id-1,1])\n",
    "             , arrowprops = {'arrowstyle': 'simple'});\n"
   ]
  },
  {
   "cell_type": "code",
   "execution_count": 523,
   "metadata": {},
   "outputs": [],
   "source": [
    "# Cut the review df to just those users who've made 20 or more reviews between 2014-2018 inc\n",
    "top_users = user_counts[user_counts>=keep]\n",
    "toronto_reviews_sub = toronto_reviews_sub[toronto_reviews_sub.user_id.isin(top_users.index)]"
   ]
  },
  {
   "cell_type": "code",
   "execution_count": 600,
   "metadata": {},
   "outputs": [
    {
     "name": "stdout",
     "output_type": "stream",
     "text": [
      "1019 power users with 20390 reviews (2015-19) for 1943 restaurants\n"
     ]
    }
   ],
   "source": [
    "print('{} power users with {} reviews (2015-19) for {} restaurants'.format(len(top_users), toronto_reviews_sub.shape[0],  toronto_reviews_sub.business_id.nunique()))\n"
   ]
  },
  {
   "cell_type": "code",
   "execution_count": 613,
   "metadata": {},
   "outputs": [
    {
     "data": {
      "image/png": "[encoded data removed]",
      "text/plain": [
       "<Figure size 792x576 with 4 Axes>"
      ]
     },
     "metadata": {
      "needs_background": "light"
     },
     "output_type": "display_data"
    }
   ],
   "source": [
    "def format_chart(ax, title, xlabel, ylabel):\n",
    "    ax.set_title(title)\n",
    "    ax.set_xlabel(xlabel)\n",
    "    ax.set_ylabel(ylabel)\n",
    "    ax.grid('')\n",
    "    ax.spines['right'].set_visible(False)\n",
    "    ax.spines['top'].set_visible(False)\n",
    "\n",
    "fig,ax = plt.subplots(2,2, figsize = (11,8))\n",
    "fig.tight_layout(pad = 5.0)\n",
    "\n",
    "toronto_reviews_sub.stars.hist(bins=range(6), color = 'darkgreen', ax=ax[0][0], alpha=0.6, edgeColor = 'darkgreen')\n",
    "format_chart(ax[0][0], 'Distribution of star ratings','Stars','Reviews')\n",
    "\n",
    "toronto_reviews_sub.year.hist(bins = np.arange(2014,2021,1), ax=ax[0][1] , alpha = 0.6, color = 'purple', edgeColor = 'purple')\n",
    "format_chart(ax[0][1], 'Distribution of reviews through time','Year','Reviews')\n",
    "\n",
    "user_counts.hist(bins = np.arange(0,51,5), ax=ax[1][0], color = 'darkred', alpha = 0.6, edgeColor = 'darkred')\n",
    "format_chart(ax[1][0], 'Count of Users placing X reviews','Reviews','Count of Users')\n",
    "\n",
    "business_counts = toronto_reviews_sub.groupby('business_id').review_id.count()\n",
    "business_counts[business_counts > 20] = 20      \n",
    "\n",
    "business_counts.hist(bins = np.arange(21), ax=ax[1][1], color = 'darkblue', alpha = 0.6, edgeColor = 'darkblue')\n",
    "format_chart(ax[1][1], 'Count of Restaurants with X reviews','Reviews','Count of Restaurants')"
   ]
  },
  {
   "cell_type": "code",
   "execution_count": 619,
   "metadata": {},
   "outputs": [],
   "source": [
    "toronto_reviews_sub.to_json('toronto_reviews_sub.json', orient='records')\n",
    "df_businesses_toronto.to_json('businesses_toronto.json', orient='records')"
   ]
  },
  {
   "cell_type": "markdown",
   "metadata": {},
   "source": [
    "### <a class=\"anchor\" id=\"Initial-FunkSVD-Model\"> Initial FunkSVD Model </a>\n"
   ]
  },
  {
   "cell_type": "markdown",
   "metadata": {},
   "source": [
    "#### Split train and test"
   ]
  },
  {
   "cell_type": "code",
   "execution_count": 633,
   "metadata": {},
   "outputs": [],
   "source": [
    "toronto_reviews_train = toronto_reviews_sub[toronto_reviews_sub.year <2019]\n",
    "toronto_reviews_test = toronto_reviews_sub[toronto_reviews_sub.year == 2019]"
   ]
  },
  {
   "cell_type": "markdown",
   "metadata": {},
   "source": [
    "Drop all but the most recent review from each user for each restaurant - thinking being that their most recent review will affect their future behaviour more"
   ]
  },
  {
   "cell_type": "code",
   "execution_count": 634,
   "metadata": {},
   "outputs": [
    {
     "name": "stdout",
     "output_type": "stream",
     "text": [
      "Before, # reviews:  17941\n",
      "After,  # reviews:  17157\n"
     ]
    }
   ],
   "source": [
    "print('Before, # reviews: ',len(toronto_reviews_train))\n",
    "toronto_reviews_train = toronto_reviews_train[~toronto_reviews_train.duplicated(subset=['user_id','business_id'],keep='last')]\n",
    "print('After,  # reviews: ', len(toronto_reviews_train))\n"
   ]
  },
  {
   "cell_type": "markdown",
   "metadata": {},
   "source": [
    "Create user_by_restaurant table"
   ]
  },
  {
   "cell_type": "code",
   "execution_count": 636,
   "metadata": {},
   "outputs": [
    {
     "data": {
      "text/html": [
       "<div>\n",
       "<style scoped>\n",
       "    .dataframe tbody tr th:only-of-type {\n",
       "        vertical-align: middle;\n",
       "    }\n",
       "\n",
       "    .dataframe tbody tr th {\n",
       "        vertical-align: top;\n",
       "    }\n",
       "\n",
       "    .dataframe thead th {\n",
       "        text-align: right;\n",
       "    }\n",
       "</style>\n",
       "<table border=\"1\" class=\"dataframe\">\n",
       "  <thead>\n",
       "    <tr style=\"text-align: right;\">\n",
       "      <th></th>\n",
       "      <th>review_id</th>\n",
       "      <th>user_id</th>\n",
       "      <th>business_id</th>\n",
       "      <th>stars</th>\n",
       "      <th>useful</th>\n",
       "      <th>funny</th>\n",
       "      <th>cool</th>\n",
       "      <th>date</th>\n",
       "      <th>city</th>\n",
       "      <th>year</th>\n",
       "    </tr>\n",
       "  </thead>\n",
       "  <tbody>\n",
       "    <tr>\n",
       "      <th>397248</th>\n",
       "      <td>NnB7PoqJPrlzCl3ayQjvIw</td>\n",
       "      <td>Kj9cFO70zZOQorN0mgeLWA</td>\n",
       "      <td>Z2QohwGZOSqutdlU2xDWJw</td>\n",
       "      <td>4.0</td>\n",
       "      <td>0</td>\n",
       "      <td>0</td>\n",
       "      <td>1</td>\n",
       "      <td>2015-01-01</td>\n",
       "      <td>Toronto</td>\n",
       "      <td>2015</td>\n",
       "    </tr>\n",
       "    <tr>\n",
       "      <th>362610</th>\n",
       "      <td>dQqSOfur1w463gS0FW14Sg</td>\n",
       "      <td>x2o4DyS9DUUTD2S0vwlDCQ</td>\n",
       "      <td>yU4zevCwPAQIMb73smTHog</td>\n",
       "      <td>3.0</td>\n",
       "      <td>0</td>\n",
       "      <td>0</td>\n",
       "      <td>1</td>\n",
       "      <td>2015-01-01</td>\n",
       "      <td>Toronto</td>\n",
       "      <td>2015</td>\n",
       "    </tr>\n",
       "    <tr>\n",
       "      <th>248033</th>\n",
       "      <td>MXnL6VPVDtlFOYsfVQjqaQ</td>\n",
       "      <td>c9NbdAJy9eOGGc_i3UKuKQ</td>\n",
       "      <td>qo9JoIB9iZxGl-KQGDzEWw</td>\n",
       "      <td>3.0</td>\n",
       "      <td>0</td>\n",
       "      <td>0</td>\n",
       "      <td>0</td>\n",
       "      <td>2015-01-01</td>\n",
       "      <td>Toronto</td>\n",
       "      <td>2015</td>\n",
       "    </tr>\n",
       "    <tr>\n",
       "      <th>105048</th>\n",
       "      <td>A1oLgG6m5dT-wcoTNSY73A</td>\n",
       "      <td>FREeRQtjdJU83AFtdETBBw</td>\n",
       "      <td>kZh-0f291AiayMgs1EqwIQ</td>\n",
       "      <td>3.0</td>\n",
       "      <td>1</td>\n",
       "      <td>0</td>\n",
       "      <td>1</td>\n",
       "      <td>2015-01-01</td>\n",
       "      <td>Toronto</td>\n",
       "      <td>2015</td>\n",
       "    </tr>\n",
       "    <tr>\n",
       "      <th>390059</th>\n",
       "      <td>180bxHHNe94oCROK54Cyvg</td>\n",
       "      <td>G-9ujgKmc1J2k7HSqXszsw</td>\n",
       "      <td>UsKmYp0m8VYWM96tkGm2vQ</td>\n",
       "      <td>4.0</td>\n",
       "      <td>1</td>\n",
       "      <td>0</td>\n",
       "      <td>0</td>\n",
       "      <td>2015-01-01</td>\n",
       "      <td>Toronto</td>\n",
       "      <td>2015</td>\n",
       "    </tr>\n",
       "  </tbody>\n",
       "</table>\n",
       "</div>"
      ],
      "text/plain": [
       "                     review_id                 user_id  \\\n",
       "397248  NnB7PoqJPrlzCl3ayQjvIw  Kj9cFO70zZOQorN0mgeLWA   \n",
       "362610  dQqSOfur1w463gS0FW14Sg  x2o4DyS9DUUTD2S0vwlDCQ   \n",
       "248033  MXnL6VPVDtlFOYsfVQjqaQ  c9NbdAJy9eOGGc_i3UKuKQ   \n",
       "105048  A1oLgG6m5dT-wcoTNSY73A  FREeRQtjdJU83AFtdETBBw   \n",
       "390059  180bxHHNe94oCROK54Cyvg  G-9ujgKmc1J2k7HSqXszsw   \n",
       "\n",
       "                   business_id  stars  useful  funny  cool        date  \\\n",
       "397248  Z2QohwGZOSqutdlU2xDWJw    4.0       0      0     1  2015-01-01   \n",
       "362610  yU4zevCwPAQIMb73smTHog    3.0       0      0     1  2015-01-01   \n",
       "248033  qo9JoIB9iZxGl-KQGDzEWw    3.0       0      0     0  2015-01-01   \n",
       "105048  kZh-0f291AiayMgs1EqwIQ    3.0       1      0     1  2015-01-01   \n",
       "390059  UsKmYp0m8VYWM96tkGm2vQ    4.0       1      0     0  2015-01-01   \n",
       "\n",
       "           city  year  \n",
       "397248  Toronto  2015  \n",
       "362610  Toronto  2015  \n",
       "248033  Toronto  2015  \n",
       "105048  Toronto  2015  \n",
       "390059  Toronto  2015  "
      ]
     },
     "execution_count": 636,
     "metadata": {},
     "output_type": "execute_result"
    }
   ],
   "source": [
    "toronto_reviews_train.head()"
   ]
  },
  {
   "cell_type": "code",
   "execution_count": 637,
   "metadata": {},
   "outputs": [],
   "source": [
    "user_by_restaurant = toronto_reviews_train[['user_id','business_id','stars']].groupby(['user_id', 'business_id'])['stars'].max().unstack()\n"
   ]
  },
  {
   "cell_type": "code",
   "execution_count": 638,
   "metadata": {
    "scrolled": true
   },
   "outputs": [
    {
     "data": {
      "text/html": [
       "<div>\n",
       "<style scoped>\n",
       "    .dataframe tbody tr th:only-of-type {\n",
       "        vertical-align: middle;\n",
       "    }\n",
       "\n",
       "    .dataframe tbody tr th {\n",
       "        vertical-align: top;\n",
       "    }\n",
       "\n",
       "    .dataframe thead th {\n",
       "        text-align: right;\n",
       "    }\n",
       "</style>\n",
       "<table border=\"1\" class=\"dataframe\">\n",
       "  <thead>\n",
       "    <tr style=\"text-align: right;\">\n",
       "      <th>business_id</th>\n",
       "      <th>--DaPTJW3-tB1vP-PfdTEg</th>\n",
       "      <th>--SrzpvFLwP_YFwB_Cetow</th>\n",
       "      <th>-0aOudcaAyac0VJbMX-L1g</th>\n",
       "      <th>-6mzdR0YjOToJ8E04Y9O0Q</th>\n",
       "      <th>-BVqCPibTNPCNeT0uJsiRg</th>\n",
       "      <th>-CLTZ0cO-ooKDDmXHFoGMg</th>\n",
       "      <th>-ClafaRWkSRTfieIzO4r3Q</th>\n",
       "      <th>-HwprJh-Bve1pcDH8_UFeQ</th>\n",
       "      <th>-IXNFjtECsn8fqF047tYFw</th>\n",
       "      <th>-OxDX2fPQLYi6ChW2Z6xxQ</th>\n",
       "      <th>...</th>\n",
       "      <th>zeiaHxtK2fTUz_jlPdIKPQ</th>\n",
       "      <th>ziLoZvl1mEuDYlndTezRZw</th>\n",
       "      <th>ziiVVWwlQbvk6fqvPt-RsA</th>\n",
       "      <th>zm7e0hmW4aPvoRsAdqqEyA</th>\n",
       "      <th>zqPAwZbi5rS1dyHrKzDpMg</th>\n",
       "      <th>zrYpLdnGKA_EmOhgRCy_vg</th>\n",
       "      <th>zvtkeghW0Px5HY9QkJ4INw</th>\n",
       "      <th>zwGu5H7MnilB9Fw7DZ7kXQ</th>\n",
       "      <th>zy_NHTqtfSrfTGGPoqy4Mw</th>\n",
       "      <th>zzH3E5DA8eMzFwv2k5izyw</th>\n",
       "    </tr>\n",
       "    <tr>\n",
       "      <th>user_id</th>\n",
       "      <th></th>\n",
       "      <th></th>\n",
       "      <th></th>\n",
       "      <th></th>\n",
       "      <th></th>\n",
       "      <th></th>\n",
       "      <th></th>\n",
       "      <th></th>\n",
       "      <th></th>\n",
       "      <th></th>\n",
       "      <th></th>\n",
       "      <th></th>\n",
       "      <th></th>\n",
       "      <th></th>\n",
       "      <th></th>\n",
       "      <th></th>\n",
       "      <th></th>\n",
       "      <th></th>\n",
       "      <th></th>\n",
       "      <th></th>\n",
       "      <th></th>\n",
       "    </tr>\n",
       "  </thead>\n",
       "  <tbody>\n",
       "    <tr>\n",
       "      <th>--BumyUHiO_7YsHurb9Hkw</th>\n",
       "      <td>NaN</td>\n",
       "      <td>NaN</td>\n",
       "      <td>NaN</td>\n",
       "      <td>NaN</td>\n",
       "      <td>NaN</td>\n",
       "      <td>NaN</td>\n",
       "      <td>NaN</td>\n",
       "      <td>NaN</td>\n",
       "      <td>NaN</td>\n",
       "      <td>NaN</td>\n",
       "      <td>...</td>\n",
       "      <td>NaN</td>\n",
       "      <td>NaN</td>\n",
       "      <td>NaN</td>\n",
       "      <td>NaN</td>\n",
       "      <td>NaN</td>\n",
       "      <td>NaN</td>\n",
       "      <td>NaN</td>\n",
       "      <td>NaN</td>\n",
       "      <td>NaN</td>\n",
       "      <td>NaN</td>\n",
       "    </tr>\n",
       "    <tr>\n",
       "      <th>--Qh8yKWAvIP4V4K8ZPfHA</th>\n",
       "      <td>NaN</td>\n",
       "      <td>NaN</td>\n",
       "      <td>NaN</td>\n",
       "      <td>NaN</td>\n",
       "      <td>NaN</td>\n",
       "      <td>NaN</td>\n",
       "      <td>NaN</td>\n",
       "      <td>NaN</td>\n",
       "      <td>NaN</td>\n",
       "      <td>NaN</td>\n",
       "      <td>...</td>\n",
       "      <td>NaN</td>\n",
       "      <td>NaN</td>\n",
       "      <td>NaN</td>\n",
       "      <td>NaN</td>\n",
       "      <td>NaN</td>\n",
       "      <td>NaN</td>\n",
       "      <td>NaN</td>\n",
       "      <td>NaN</td>\n",
       "      <td>NaN</td>\n",
       "      <td>NaN</td>\n",
       "    </tr>\n",
       "    <tr>\n",
       "      <th>-3PTUP443q6hQESLKSu95w</th>\n",
       "      <td>NaN</td>\n",
       "      <td>NaN</td>\n",
       "      <td>NaN</td>\n",
       "      <td>NaN</td>\n",
       "      <td>NaN</td>\n",
       "      <td>NaN</td>\n",
       "      <td>NaN</td>\n",
       "      <td>NaN</td>\n",
       "      <td>NaN</td>\n",
       "      <td>NaN</td>\n",
       "      <td>...</td>\n",
       "      <td>NaN</td>\n",
       "      <td>NaN</td>\n",
       "      <td>NaN</td>\n",
       "      <td>NaN</td>\n",
       "      <td>NaN</td>\n",
       "      <td>NaN</td>\n",
       "      <td>4.0</td>\n",
       "      <td>NaN</td>\n",
       "      <td>NaN</td>\n",
       "      <td>NaN</td>\n",
       "    </tr>\n",
       "    <tr>\n",
       "      <th>-9RU4LuI_TfYgv9rBijJoQ</th>\n",
       "      <td>NaN</td>\n",
       "      <td>NaN</td>\n",
       "      <td>NaN</td>\n",
       "      <td>NaN</td>\n",
       "      <td>NaN</td>\n",
       "      <td>NaN</td>\n",
       "      <td>NaN</td>\n",
       "      <td>NaN</td>\n",
       "      <td>NaN</td>\n",
       "      <td>NaN</td>\n",
       "      <td>...</td>\n",
       "      <td>NaN</td>\n",
       "      <td>NaN</td>\n",
       "      <td>NaN</td>\n",
       "      <td>NaN</td>\n",
       "      <td>NaN</td>\n",
       "      <td>NaN</td>\n",
       "      <td>NaN</td>\n",
       "      <td>NaN</td>\n",
       "      <td>NaN</td>\n",
       "      <td>NaN</td>\n",
       "    </tr>\n",
       "    <tr>\n",
       "      <th>-ILapEusonY1QHyJPvUk2A</th>\n",
       "      <td>NaN</td>\n",
       "      <td>NaN</td>\n",
       "      <td>NaN</td>\n",
       "      <td>NaN</td>\n",
       "      <td>NaN</td>\n",
       "      <td>NaN</td>\n",
       "      <td>NaN</td>\n",
       "      <td>NaN</td>\n",
       "      <td>NaN</td>\n",
       "      <td>NaN</td>\n",
       "      <td>...</td>\n",
       "      <td>NaN</td>\n",
       "      <td>NaN</td>\n",
       "      <td>NaN</td>\n",
       "      <td>NaN</td>\n",
       "      <td>NaN</td>\n",
       "      <td>NaN</td>\n",
       "      <td>NaN</td>\n",
       "      <td>NaN</td>\n",
       "      <td>NaN</td>\n",
       "      <td>NaN</td>\n",
       "    </tr>\n",
       "    <tr>\n",
       "      <th>...</th>\n",
       "      <td>...</td>\n",
       "      <td>...</td>\n",
       "      <td>...</td>\n",
       "      <td>...</td>\n",
       "      <td>...</td>\n",
       "      <td>...</td>\n",
       "      <td>...</td>\n",
       "      <td>...</td>\n",
       "      <td>...</td>\n",
       "      <td>...</td>\n",
       "      <td>...</td>\n",
       "      <td>...</td>\n",
       "      <td>...</td>\n",
       "      <td>...</td>\n",
       "      <td>...</td>\n",
       "      <td>...</td>\n",
       "      <td>...</td>\n",
       "      <td>...</td>\n",
       "      <td>...</td>\n",
       "      <td>...</td>\n",
       "      <td>...</td>\n",
       "    </tr>\n",
       "    <tr>\n",
       "      <th>zbSBmoujGgIPuNWQcny14g</th>\n",
       "      <td>NaN</td>\n",
       "      <td>NaN</td>\n",
       "      <td>NaN</td>\n",
       "      <td>NaN</td>\n",
       "      <td>NaN</td>\n",
       "      <td>NaN</td>\n",
       "      <td>NaN</td>\n",
       "      <td>NaN</td>\n",
       "      <td>NaN</td>\n",
       "      <td>NaN</td>\n",
       "      <td>...</td>\n",
       "      <td>NaN</td>\n",
       "      <td>NaN</td>\n",
       "      <td>NaN</td>\n",
       "      <td>NaN</td>\n",
       "      <td>NaN</td>\n",
       "      <td>NaN</td>\n",
       "      <td>NaN</td>\n",
       "      <td>NaN</td>\n",
       "      <td>NaN</td>\n",
       "      <td>NaN</td>\n",
       "    </tr>\n",
       "    <tr>\n",
       "      <th>zc3saQQEeTBQbk3GeqtxvA</th>\n",
       "      <td>NaN</td>\n",
       "      <td>NaN</td>\n",
       "      <td>NaN</td>\n",
       "      <td>NaN</td>\n",
       "      <td>NaN</td>\n",
       "      <td>NaN</td>\n",
       "      <td>NaN</td>\n",
       "      <td>NaN</td>\n",
       "      <td>NaN</td>\n",
       "      <td>NaN</td>\n",
       "      <td>...</td>\n",
       "      <td>NaN</td>\n",
       "      <td>NaN</td>\n",
       "      <td>NaN</td>\n",
       "      <td>NaN</td>\n",
       "      <td>NaN</td>\n",
       "      <td>NaN</td>\n",
       "      <td>NaN</td>\n",
       "      <td>NaN</td>\n",
       "      <td>NaN</td>\n",
       "      <td>NaN</td>\n",
       "    </tr>\n",
       "    <tr>\n",
       "      <th>zejQj99sR-Y9-rq_xpL9nw</th>\n",
       "      <td>NaN</td>\n",
       "      <td>NaN</td>\n",
       "      <td>NaN</td>\n",
       "      <td>NaN</td>\n",
       "      <td>NaN</td>\n",
       "      <td>NaN</td>\n",
       "      <td>NaN</td>\n",
       "      <td>NaN</td>\n",
       "      <td>NaN</td>\n",
       "      <td>NaN</td>\n",
       "      <td>...</td>\n",
       "      <td>NaN</td>\n",
       "      <td>NaN</td>\n",
       "      <td>NaN</td>\n",
       "      <td>NaN</td>\n",
       "      <td>NaN</td>\n",
       "      <td>NaN</td>\n",
       "      <td>NaN</td>\n",
       "      <td>NaN</td>\n",
       "      <td>NaN</td>\n",
       "      <td>NaN</td>\n",
       "    </tr>\n",
       "    <tr>\n",
       "      <th>zhS9cyzz2XwJADcikGsc9Q</th>\n",
       "      <td>NaN</td>\n",
       "      <td>NaN</td>\n",
       "      <td>NaN</td>\n",
       "      <td>NaN</td>\n",
       "      <td>NaN</td>\n",
       "      <td>NaN</td>\n",
       "      <td>NaN</td>\n",
       "      <td>NaN</td>\n",
       "      <td>NaN</td>\n",
       "      <td>NaN</td>\n",
       "      <td>...</td>\n",
       "      <td>NaN</td>\n",
       "      <td>NaN</td>\n",
       "      <td>NaN</td>\n",
       "      <td>NaN</td>\n",
       "      <td>NaN</td>\n",
       "      <td>NaN</td>\n",
       "      <td>NaN</td>\n",
       "      <td>NaN</td>\n",
       "      <td>NaN</td>\n",
       "      <td>NaN</td>\n",
       "    </tr>\n",
       "    <tr>\n",
       "      <th>zsJFjhBQEFQ6gJ7BsNM_Ug</th>\n",
       "      <td>NaN</td>\n",
       "      <td>NaN</td>\n",
       "      <td>NaN</td>\n",
       "      <td>NaN</td>\n",
       "      <td>NaN</td>\n",
       "      <td>NaN</td>\n",
       "      <td>NaN</td>\n",
       "      <td>NaN</td>\n",
       "      <td>NaN</td>\n",
       "      <td>NaN</td>\n",
       "      <td>...</td>\n",
       "      <td>NaN</td>\n",
       "      <td>NaN</td>\n",
       "      <td>NaN</td>\n",
       "      <td>NaN</td>\n",
       "      <td>NaN</td>\n",
       "      <td>NaN</td>\n",
       "      <td>NaN</td>\n",
       "      <td>NaN</td>\n",
       "      <td>NaN</td>\n",
       "      <td>NaN</td>\n",
       "    </tr>\n",
       "  </tbody>\n",
       "</table>\n",
       "<p>1019 rows × 1801 columns</p>\n",
       "</div>"
      ],
      "text/plain": [
       "business_id             --DaPTJW3-tB1vP-PfdTEg  --SrzpvFLwP_YFwB_Cetow  \\\n",
       "user_id                                                                  \n",
       "--BumyUHiO_7YsHurb9Hkw                     NaN                     NaN   \n",
       "--Qh8yKWAvIP4V4K8ZPfHA                     NaN                     NaN   \n",
       "-3PTUP443q6hQESLKSu95w                     NaN                     NaN   \n",
       "-9RU4LuI_TfYgv9rBijJoQ                     NaN                     NaN   \n",
       "-ILapEusonY1QHyJPvUk2A                     NaN                     NaN   \n",
       "...                                        ...                     ...   \n",
       "zbSBmoujGgIPuNWQcny14g                     NaN                     NaN   \n",
       "zc3saQQEeTBQbk3GeqtxvA                     NaN                     NaN   \n",
       "zejQj99sR-Y9-rq_xpL9nw                     NaN                     NaN   \n",
       "zhS9cyzz2XwJADcikGsc9Q                     NaN                     NaN   \n",
       "zsJFjhBQEFQ6gJ7BsNM_Ug                     NaN                     NaN   \n",
       "\n",
       "business_id             -0aOudcaAyac0VJbMX-L1g  -6mzdR0YjOToJ8E04Y9O0Q  \\\n",
       "user_id                                                                  \n",
       "--BumyUHiO_7YsHurb9Hkw                     NaN                     NaN   \n",
       "--Qh8yKWAvIP4V4K8ZPfHA                     NaN                     NaN   \n",
       "-3PTUP443q6hQESLKSu95w                     NaN                     NaN   \n",
       "-9RU4LuI_TfYgv9rBijJoQ                     NaN                     NaN   \n",
       "-ILapEusonY1QHyJPvUk2A                     NaN                     NaN   \n",
       "...                                        ...                     ...   \n",
       "zbSBmoujGgIPuNWQcny14g                     NaN                     NaN   \n",
       "zc3saQQEeTBQbk3GeqtxvA                     NaN                     NaN   \n",
       "zejQj99sR-Y9-rq_xpL9nw                     NaN                     NaN   \n",
       "zhS9cyzz2XwJADcikGsc9Q                     NaN                     NaN   \n",
       "zsJFjhBQEFQ6gJ7BsNM_Ug                     NaN                     NaN   \n",
       "\n",
       "business_id             -BVqCPibTNPCNeT0uJsiRg  -CLTZ0cO-ooKDDmXHFoGMg  \\\n",
       "user_id                                                                  \n",
       "--BumyUHiO_7YsHurb9Hkw                     NaN                     NaN   \n",
       "--Qh8yKWAvIP4V4K8ZPfHA                     NaN                     NaN   \n",
       "-3PTUP443q6hQESLKSu95w                     NaN                     NaN   \n",
       "-9RU4LuI_TfYgv9rBijJoQ                     NaN                     NaN   \n",
       "-ILapEusonY1QHyJPvUk2A                     NaN                     NaN   \n",
       "...                                        ...                     ...   \n",
       "zbSBmoujGgIPuNWQcny14g                     NaN                     NaN   \n",
       "zc3saQQEeTBQbk3GeqtxvA                     NaN                     NaN   \n",
       "zejQj99sR-Y9-rq_xpL9nw                     NaN                     NaN   \n",
       "zhS9cyzz2XwJADcikGsc9Q                     NaN                     NaN   \n",
       "zsJFjhBQEFQ6gJ7BsNM_Ug                     NaN                     NaN   \n",
       "\n",
       "business_id             -ClafaRWkSRTfieIzO4r3Q  -HwprJh-Bve1pcDH8_UFeQ  \\\n",
       "user_id                                                                  \n",
       "--BumyUHiO_7YsHurb9Hkw                     NaN                     NaN   \n",
       "--Qh8yKWAvIP4V4K8ZPfHA                     NaN                     NaN   \n",
       "-3PTUP443q6hQESLKSu95w                     NaN                     NaN   \n",
       "-9RU4LuI_TfYgv9rBijJoQ                     NaN                     NaN   \n",
       "-ILapEusonY1QHyJPvUk2A                     NaN                     NaN   \n",
       "...                                        ...                     ...   \n",
       "zbSBmoujGgIPuNWQcny14g                     NaN                     NaN   \n",
       "zc3saQQEeTBQbk3GeqtxvA                     NaN                     NaN   \n",
       "zejQj99sR-Y9-rq_xpL9nw                     NaN                     NaN   \n",
       "zhS9cyzz2XwJADcikGsc9Q                     NaN                     NaN   \n",
       "zsJFjhBQEFQ6gJ7BsNM_Ug                     NaN                     NaN   \n",
       "\n",
       "business_id             -IXNFjtECsn8fqF047tYFw  -OxDX2fPQLYi6ChW2Z6xxQ  ...  \\\n",
       "user_id                                                                 ...   \n",
       "--BumyUHiO_7YsHurb9Hkw                     NaN                     NaN  ...   \n",
       "--Qh8yKWAvIP4V4K8ZPfHA                     NaN                     NaN  ...   \n",
       "-3PTUP443q6hQESLKSu95w                     NaN                     NaN  ...   \n",
       "-9RU4LuI_TfYgv9rBijJoQ                     NaN                     NaN  ...   \n",
       "-ILapEusonY1QHyJPvUk2A                     NaN                     NaN  ...   \n",
       "...                                        ...                     ...  ...   \n",
       "zbSBmoujGgIPuNWQcny14g                     NaN                     NaN  ...   \n",
       "zc3saQQEeTBQbk3GeqtxvA                     NaN                     NaN  ...   \n",
       "zejQj99sR-Y9-rq_xpL9nw                     NaN                     NaN  ...   \n",
       "zhS9cyzz2XwJADcikGsc9Q                     NaN                     NaN  ...   \n",
       "zsJFjhBQEFQ6gJ7BsNM_Ug                     NaN                     NaN  ...   \n",
       "\n",
       "business_id             zeiaHxtK2fTUz_jlPdIKPQ  ziLoZvl1mEuDYlndTezRZw  \\\n",
       "user_id                                                                  \n",
       "--BumyUHiO_7YsHurb9Hkw                     NaN                     NaN   \n",
       "--Qh8yKWAvIP4V4K8ZPfHA                     NaN                     NaN   \n",
       "-3PTUP443q6hQESLKSu95w                     NaN                     NaN   \n",
       "-9RU4LuI_TfYgv9rBijJoQ                     NaN                     NaN   \n",
       "-ILapEusonY1QHyJPvUk2A                     NaN                     NaN   \n",
       "...                                        ...                     ...   \n",
       "zbSBmoujGgIPuNWQcny14g                     NaN                     NaN   \n",
       "zc3saQQEeTBQbk3GeqtxvA                     NaN                     NaN   \n",
       "zejQj99sR-Y9-rq_xpL9nw                     NaN                     NaN   \n",
       "zhS9cyzz2XwJADcikGsc9Q                     NaN                     NaN   \n",
       "zsJFjhBQEFQ6gJ7BsNM_Ug                     NaN                     NaN   \n",
       "\n",
       "business_id             ziiVVWwlQbvk6fqvPt-RsA  zm7e0hmW4aPvoRsAdqqEyA  \\\n",
       "user_id                                                                  \n",
       "--BumyUHiO_7YsHurb9Hkw                     NaN                     NaN   \n",
       "--Qh8yKWAvIP4V4K8ZPfHA                     NaN                     NaN   \n",
       "-3PTUP443q6hQESLKSu95w                     NaN                     NaN   \n",
       "-9RU4LuI_TfYgv9rBijJoQ                     NaN                     NaN   \n",
       "-ILapEusonY1QHyJPvUk2A                     NaN                     NaN   \n",
       "...                                        ...                     ...   \n",
       "zbSBmoujGgIPuNWQcny14g                     NaN                     NaN   \n",
       "zc3saQQEeTBQbk3GeqtxvA                     NaN                     NaN   \n",
       "zejQj99sR-Y9-rq_xpL9nw                     NaN                     NaN   \n",
       "zhS9cyzz2XwJADcikGsc9Q                     NaN                     NaN   \n",
       "zsJFjhBQEFQ6gJ7BsNM_Ug                     NaN                     NaN   \n",
       "\n",
       "business_id             zqPAwZbi5rS1dyHrKzDpMg  zrYpLdnGKA_EmOhgRCy_vg  \\\n",
       "user_id                                                                  \n",
       "--BumyUHiO_7YsHurb9Hkw                     NaN                     NaN   \n",
       "--Qh8yKWAvIP4V4K8ZPfHA                     NaN                     NaN   \n",
       "-3PTUP443q6hQESLKSu95w                     NaN                     NaN   \n",
       "-9RU4LuI_TfYgv9rBijJoQ                     NaN                     NaN   \n",
       "-ILapEusonY1QHyJPvUk2A                     NaN                     NaN   \n",
       "...                                        ...                     ...   \n",
       "zbSBmoujGgIPuNWQcny14g                     NaN                     NaN   \n",
       "zc3saQQEeTBQbk3GeqtxvA                     NaN                     NaN   \n",
       "zejQj99sR-Y9-rq_xpL9nw                     NaN                     NaN   \n",
       "zhS9cyzz2XwJADcikGsc9Q                     NaN                     NaN   \n",
       "zsJFjhBQEFQ6gJ7BsNM_Ug                     NaN                     NaN   \n",
       "\n",
       "business_id             zvtkeghW0Px5HY9QkJ4INw  zwGu5H7MnilB9Fw7DZ7kXQ  \\\n",
       "user_id                                                                  \n",
       "--BumyUHiO_7YsHurb9Hkw                     NaN                     NaN   \n",
       "--Qh8yKWAvIP4V4K8ZPfHA                     NaN                     NaN   \n",
       "-3PTUP443q6hQESLKSu95w                     4.0                     NaN   \n",
       "-9RU4LuI_TfYgv9rBijJoQ                     NaN                     NaN   \n",
       "-ILapEusonY1QHyJPvUk2A                     NaN                     NaN   \n",
       "...                                        ...                     ...   \n",
       "zbSBmoujGgIPuNWQcny14g                     NaN                     NaN   \n",
       "zc3saQQEeTBQbk3GeqtxvA                     NaN                     NaN   \n",
       "zejQj99sR-Y9-rq_xpL9nw                     NaN                     NaN   \n",
       "zhS9cyzz2XwJADcikGsc9Q                     NaN                     NaN   \n",
       "zsJFjhBQEFQ6gJ7BsNM_Ug                     NaN                     NaN   \n",
       "\n",
       "business_id             zy_NHTqtfSrfTGGPoqy4Mw  zzH3E5DA8eMzFwv2k5izyw  \n",
       "user_id                                                                 \n",
       "--BumyUHiO_7YsHurb9Hkw                     NaN                     NaN  \n",
       "--Qh8yKWAvIP4V4K8ZPfHA                     NaN                     NaN  \n",
       "-3PTUP443q6hQESLKSu95w                     NaN                     NaN  \n",
       "-9RU4LuI_TfYgv9rBijJoQ                     NaN                     NaN  \n",
       "-ILapEusonY1QHyJPvUk2A                     NaN                     NaN  \n",
       "...                                        ...                     ...  \n",
       "zbSBmoujGgIPuNWQcny14g                     NaN                     NaN  \n",
       "zc3saQQEeTBQbk3GeqtxvA                     NaN                     NaN  \n",
       "zejQj99sR-Y9-rq_xpL9nw                     NaN                     NaN  \n",
       "zhS9cyzz2XwJADcikGsc9Q                     NaN                     NaN  \n",
       "zsJFjhBQEFQ6gJ7BsNM_Ug                     NaN                     NaN  \n",
       "\n",
       "[1019 rows x 1801 columns]"
      ]
     },
     "execution_count": 638,
     "metadata": {},
     "output_type": "execute_result"
    }
   ],
   "source": [
    "user_by_restaurant"
   ]
  },
  {
   "cell_type": "code",
   "execution_count": 651,
   "metadata": {},
   "outputs": [],
   "source": [
    "def FunkSVD(ratings_mat, latent_features=10, learning_rate=0.0001, iters=100):\n",
    "    '''\n",
    "    This function performs matrix factorization using a basic form of FunkSVD with no regularization\n",
    "    \n",
    "    INPUT:\n",
    "    ratings_mat - (numpy array) a matrix with users as rows, rxs as columns, and ratings as values\n",
    "    latent_features - (int) the number of latent features used\n",
    "    learning_rate - (float) the learning rate \n",
    "    iters - (int) the number of iterations\n",
    "    \n",
    "    OUTPUT:\n",
    "    user_mat - (numpy array) a user by latent feature matrix\n",
    "    rx_mat - (numpy array) a latent feature by restaurant matrix\n",
    "    '''\n",
    "    \n",
    "    # Set up useful values to be used through the rest of the function\n",
    "    n_users = ratings_mat.shape[0]  # number of rows in the matrix\n",
    "    n_rxs = ratings_mat.shape[1] # number of rx in the matrix\n",
    "    num_ratings = ratings_mat.size  # total number of ratings in the matrix\n",
    "    \n",
    "    # initialize the user and rx matrices with random values\n",
    "    user_mat = np.random.rand(n_users,latent_features)# user matrix filled with random values of shape user x latent \n",
    "    rx_mat = np.random.rand(latent_features,n_rxs)# rx matrix filled with random values of shape latent x rx\n",
    "    \n",
    "    # initialize sse at 0 for first iteration\n",
    "    sse_accum = 0\n",
    "    \n",
    "    # timeit\n",
    "    start = time.time()\n",
    "    \n",
    "    # header for running results\n",
    "    print(\"Optimization Statistics\")\n",
    "    print(\"Iterations\\t| Mean Squared Error\\t| ETA \")\n",
    "    \n",
    "    # for each iteration\n",
    "    for i in range(iters):\n",
    "        # update our sse\n",
    "        old_sse = sse_accum\n",
    "        sse_accum = 0\n",
    "        \n",
    "        # For each user-rx pair\n",
    "        for u in range(n_users):\n",
    "            for m in range(n_rxs):\n",
    "                # if the rating exists\n",
    "                if np.isfinite(ratings_mat[u,m]):\n",
    "\n",
    "                    # compute the error as the actual minus the dot product of the user and rx latent features\n",
    "                    err = ratings_mat[u,m]-np.dot(user_mat[u,:],rx_mat[:,m])\n",
    "                    # Keep track of the total sum of squared errors for the matrix\n",
    "                    sse_accum += err**2\n",
    "                    # update the values in each matrix in the direction of the gradient\n",
    "                    user_mat[u,:] = user_mat[u,:] + learning_rate * 2 * err * rx_mat[:,m].T\n",
    "                    rx_mat[:,m] = rx_mat[:,m] + learning_rate * 2 * err * user_mat[u,:].T\n",
    "        # Update time\n",
    "        ETA = (time.time()-start)/(i+1)*(iters-i-1)\n",
    "        ETA_string = '{:.0f}m{:.0f}s'.format(ETA//60,ETA%60)\n",
    "                    \n",
    "                    \n",
    "        # print results for iteration\n",
    "        print(\"%d \\t\\t |%f \\t\\t| %s\" % (i+1, sse_accum / num_ratings, ETA_string))\n",
    "        \n",
    "    return user_mat, rx_mat \n",
    "\n",
    "\n",
    "\n"
   ]
  },
  {
   "cell_type": "code",
   "execution_count": 668,
   "metadata": {},
   "outputs": [
    {
     "name": "stdout",
     "output_type": "stream",
     "text": [
      "Optimization Statistics\n",
      "Iterations\t| Mean Squared Error\t| ETA \n",
      "1 \t\t|0.017085 \t\t| 1m54s\n",
      "2 \t\t|0.010352 \t\t| 1m47s\n",
      "3 \t\t|0.008540 \t\t| 1m42s\n",
      "4 \t\t|0.007685 \t\t| 1m37s\n",
      "5 \t\t|0.007164 \t\t| 1m32s\n",
      "6 \t\t|0.006791 \t\t| 1m27s\n",
      "7 \t\t|0.006495 \t\t| 1m23s\n",
      "8 \t\t|0.006244 \t\t| 1m18s\n",
      "9 \t\t|0.006021 \t\t| 1m14s\n",
      "10 \t\t|0.005818 \t\t| 1m9s\n",
      "11 \t\t|0.005628 \t\t| 1m5s\n",
      "12 \t\t|0.005448 \t\t| 1m0s\n",
      "13 \t\t|0.005275 \t\t| 0m55s\n",
      "14 \t\t|0.005108 \t\t| 0m51s\n",
      "15 \t\t|0.004946 \t\t| 0m46s\n",
      "16 \t\t|0.004789 \t\t| 0m42s\n",
      "17 \t\t|0.004635 \t\t| 0m37s\n",
      "18 \t\t|0.004486 \t\t| 0m32s\n",
      "19 \t\t|0.004340 \t\t| 0m28s\n",
      "20 \t\t|0.004199 \t\t| 0m23s\n",
      "21 \t\t|0.004061 \t\t| 0m18s\n",
      "22 \t\t|0.003928 \t\t| 0m14s\n",
      "23 \t\t|0.003799 \t\t| 0m9s\n",
      "24 \t\t|0.003675 \t\t| 0m5s\n",
      "25 \t\t|0.003555 \t\t| 0m0s\n"
     ]
    }
   ],
   "source": [
    "user_mat, rx_mat = FunkSVD(np.matrix(user_by_restaurant), latent_features=10, learning_rate=0.005, iters=25)# use your function with 4 latent features, lr of 0.005 and 10 iterations\n"
   ]
  },
  {
   "cell_type": "code",
   "execution_count": 665,
   "metadata": {},
   "outputs": [],
   "source": [
    "def predict_rating(user_matrix, rx_matrix, user_id, rx_id):\n",
    "    '''\n",
    "    INPUT:\n",
    "    user_matrix - user by latent factor matrix\n",
    "    rx_matrix - latent factor by rx matrix\n",
    "    user_id - the user_id from the reviews df\n",
    "    rx_id - the rx_id according the rxs df\n",
    "    \n",
    "    OUTPUT:\n",
    "    pred - the predicted rating for user_id-rx_id according to FunkSVD\n",
    "    '''\n",
    "    # Use the training data to create a series of users and rxs that matches the ordering in training data\n",
    "    rx_ids = toronto_reviews_train.business_id.sort_values().unique()\n",
    "    user_ids = toronto_reviews_train.user_id.sort_values().unique()\n",
    "    m_id = np.where(rx_ids==rx_id)[0][0]\n",
    "    u_id = np.where(user_ids==user_id)[0][0]\n",
    "\n",
    "    # User row and rx Column\n",
    "    row = user_matrix[u_id,:]\n",
    "    column = rx_matrix[:,m_id]\n",
    "    # Take dot product of that row and column in U and V to make prediction\n",
    "    pred = np.dot(row,column)\n",
    "    \n",
    "    return pred"
   ]
  },
  {
   "cell_type": "code",
   "execution_count": 666,
   "metadata": {},
   "outputs": [
    {
     "data": {
      "text/html": [
       "<div>\n",
       "<style scoped>\n",
       "    .dataframe tbody tr th:only-of-type {\n",
       "        vertical-align: middle;\n",
       "    }\n",
       "\n",
       "    .dataframe tbody tr th {\n",
       "        vertical-align: top;\n",
       "    }\n",
       "\n",
       "    .dataframe thead th {\n",
       "        text-align: right;\n",
       "    }\n",
       "</style>\n",
       "<table border=\"1\" class=\"dataframe\">\n",
       "  <thead>\n",
       "    <tr style=\"text-align: right;\">\n",
       "      <th></th>\n",
       "      <th>review_id</th>\n",
       "      <th>user_id</th>\n",
       "      <th>business_id</th>\n",
       "      <th>stars</th>\n",
       "      <th>useful</th>\n",
       "      <th>funny</th>\n",
       "      <th>cool</th>\n",
       "      <th>date</th>\n",
       "      <th>city</th>\n",
       "      <th>year</th>\n",
       "    </tr>\n",
       "  </thead>\n",
       "  <tbody>\n",
       "    <tr>\n",
       "      <th>397248</th>\n",
       "      <td>NnB7PoqJPrlzCl3ayQjvIw</td>\n",
       "      <td>Kj9cFO70zZOQorN0mgeLWA</td>\n",
       "      <td>Z2QohwGZOSqutdlU2xDWJw</td>\n",
       "      <td>4.0</td>\n",
       "      <td>0</td>\n",
       "      <td>0</td>\n",
       "      <td>1</td>\n",
       "      <td>2015-01-01</td>\n",
       "      <td>Toronto</td>\n",
       "      <td>2015</td>\n",
       "    </tr>\n",
       "    <tr>\n",
       "      <th>362610</th>\n",
       "      <td>dQqSOfur1w463gS0FW14Sg</td>\n",
       "      <td>x2o4DyS9DUUTD2S0vwlDCQ</td>\n",
       "      <td>yU4zevCwPAQIMb73smTHog</td>\n",
       "      <td>3.0</td>\n",
       "      <td>0</td>\n",
       "      <td>0</td>\n",
       "      <td>1</td>\n",
       "      <td>2015-01-01</td>\n",
       "      <td>Toronto</td>\n",
       "      <td>2015</td>\n",
       "    </tr>\n",
       "    <tr>\n",
       "      <th>248033</th>\n",
       "      <td>MXnL6VPVDtlFOYsfVQjqaQ</td>\n",
       "      <td>c9NbdAJy9eOGGc_i3UKuKQ</td>\n",
       "      <td>qo9JoIB9iZxGl-KQGDzEWw</td>\n",
       "      <td>3.0</td>\n",
       "      <td>0</td>\n",
       "      <td>0</td>\n",
       "      <td>0</td>\n",
       "      <td>2015-01-01</td>\n",
       "      <td>Toronto</td>\n",
       "      <td>2015</td>\n",
       "    </tr>\n",
       "    <tr>\n",
       "      <th>105048</th>\n",
       "      <td>A1oLgG6m5dT-wcoTNSY73A</td>\n",
       "      <td>FREeRQtjdJU83AFtdETBBw</td>\n",
       "      <td>kZh-0f291AiayMgs1EqwIQ</td>\n",
       "      <td>3.0</td>\n",
       "      <td>1</td>\n",
       "      <td>0</td>\n",
       "      <td>1</td>\n",
       "      <td>2015-01-01</td>\n",
       "      <td>Toronto</td>\n",
       "      <td>2015</td>\n",
       "    </tr>\n",
       "    <tr>\n",
       "      <th>390059</th>\n",
       "      <td>180bxHHNe94oCROK54Cyvg</td>\n",
       "      <td>G-9ujgKmc1J2k7HSqXszsw</td>\n",
       "      <td>UsKmYp0m8VYWM96tkGm2vQ</td>\n",
       "      <td>4.0</td>\n",
       "      <td>1</td>\n",
       "      <td>0</td>\n",
       "      <td>0</td>\n",
       "      <td>2015-01-01</td>\n",
       "      <td>Toronto</td>\n",
       "      <td>2015</td>\n",
       "    </tr>\n",
       "  </tbody>\n",
       "</table>\n",
       "</div>"
      ],
      "text/plain": [
       "                     review_id                 user_id  \\\n",
       "397248  NnB7PoqJPrlzCl3ayQjvIw  Kj9cFO70zZOQorN0mgeLWA   \n",
       "362610  dQqSOfur1w463gS0FW14Sg  x2o4DyS9DUUTD2S0vwlDCQ   \n",
       "248033  MXnL6VPVDtlFOYsfVQjqaQ  c9NbdAJy9eOGGc_i3UKuKQ   \n",
       "105048  A1oLgG6m5dT-wcoTNSY73A  FREeRQtjdJU83AFtdETBBw   \n",
       "390059  180bxHHNe94oCROK54Cyvg  G-9ujgKmc1J2k7HSqXszsw   \n",
       "\n",
       "                   business_id  stars  useful  funny  cool        date  \\\n",
       "397248  Z2QohwGZOSqutdlU2xDWJw    4.0       0      0     1  2015-01-01   \n",
       "362610  yU4zevCwPAQIMb73smTHog    3.0       0      0     1  2015-01-01   \n",
       "248033  qo9JoIB9iZxGl-KQGDzEWw    3.0       0      0     0  2015-01-01   \n",
       "105048  kZh-0f291AiayMgs1EqwIQ    3.0       1      0     1  2015-01-01   \n",
       "390059  UsKmYp0m8VYWM96tkGm2vQ    4.0       1      0     0  2015-01-01   \n",
       "\n",
       "           city  year  \n",
       "397248  Toronto  2015  \n",
       "362610  Toronto  2015  \n",
       "248033  Toronto  2015  \n",
       "105048  Toronto  2015  \n",
       "390059  Toronto  2015  "
      ]
     },
     "execution_count": 666,
     "metadata": {},
     "output_type": "execute_result"
    }
   ],
   "source": [
    "\n",
    "\n",
    "toronto_reviews_train.head()"
   ]
  },
  {
   "cell_type": "code",
   "execution_count": 670,
   "metadata": {},
   "outputs": [
    {
     "name": "stdout",
     "output_type": "stream",
     "text": [
      "3.4406092689803893\n",
      "2.6805337680762538\n"
     ]
    }
   ],
   "source": [
    "print(predict_rating(user_mat, rx_mat, 'Kj9cFO70zZOQorN0mgeLWA', 'Z2QohwGZOSqutdlU2xDWJw'))\n",
    "print(predict_rating(user_mat, rx_mat, 'c9NbdAJy9eOGGc_i3UKuKQ', 'qo9JoIB9iZxGl-KQGDzEWw'))"
   ]
  },
  {
   "cell_type": "code",
   "execution_count": 675,
   "metadata": {},
   "outputs": [],
   "source": [
    "def validation_comparison(val_df, user_mat=user_mat, rx_mat=rx_mat):\n",
    "    '''\n",
    "    INPUT:\n",
    "    val_df - the validation dataset created in the third cell above\n",
    "    user_mat - U matrix in FunkSVD\n",
    "    rx_mat - V matrix in FunkSVD\n",
    "        \n",
    "    OUTPUT:\n",
    "    rmse - RMSE of how far off each value is from it's predicted value\n",
    "    perc_rated - percent of predictions out of all possible that could be rated\n",
    "    actual_v_pred - a 10 x 10 grid with counts for actual vs predicted values\n",
    "    '''\n",
    "        \n",
    "    val_users = np.array(val_df['user_id'])\n",
    "    val_rxs = np.array(val_df['business_id'])\n",
    "    val_ratings = np.array(val_df['stars'])\n",
    "    \n",
    "    sse = 0\n",
    "    num_rated = 0\n",
    "    preds, acts = [], []\n",
    "    actual_v_pred = np.zeros((5,5))\n",
    "    for idx in range(len(val_users)):\n",
    "        try:\n",
    "            pred = predict_rating(user_mat, rx_mat, val_users[idx], val_rxs[idx])\n",
    "            sse += (val_ratings[idx] - pred)**2\n",
    "            num_rated+=1\n",
    "            preds.append(pred)\n",
    "            acts.append(val_ratings[idx])\n",
    "            actual_v_pred[11-int(val_ratings[idx]-1), int(round(pred)-1)]+=1\n",
    "        \n",
    "        except:\n",
    "            continue\n",
    "    \n",
    "    rmse = np.sqrt(sse/num_rated)\n",
    "    perc_rated = num_rated/len(val_users)\n",
    "    return rmse, perc_rated, actual_v_pred, preds, acts"
   ]
  },
  {
   "cell_type": "code",
   "execution_count": 678,
   "metadata": {},
   "outputs": [
    {
     "name": "stdout",
     "output_type": "stream",
     "text": [
      "1.0374110947415347 0.805634953042058\n"
     ]
    }
   ],
   "source": [
    "# How well did we do?\n",
    "rmse, perc_rated, actual_v_pred, preds, acts = validation_comparison(toronto_reviews_test)\n",
    "print(rmse, perc_rated)"
   ]
  },
  {
   "cell_type": "code",
   "execution_count": 696,
   "metadata": {},
   "outputs": [
    {
     "data": {
      "text/plain": [
       "array([[  0.,   0.,   0.,   0.,   0.],\n",
       "       [  0.,   0.,   0.,   0.,   0.],\n",
       "       [  0.,  10.,  91., 253., 129.],\n",
       "       [  2.,  25., 257., 412., 101.],\n",
       "       [  1.,  28., 193., 224.,  27.]])"
      ]
     },
     "execution_count": 696,
     "metadata": {},
     "output_type": "execute_result"
    }
   ],
   "source": []
  },
  {
   "cell_type": "code",
   "execution_count": 702,
   "metadata": {},
   "outputs": [
    {
     "data": {
      "image/png": "[encoded data removed]",
      "text/plain": [
       "<Figure size 432x288 with 2 Axes>"
      ]
     },
     "metadata": {
      "needs_background": "light"
     },
     "output_type": "display_data"
    }
   ],
   "source": [
    "sns.heatmap(actual_v_pred/(actual_v_pred.sum(axis=1)[:, np.newaxis]+1E-6), annot=True, fmt='.0%')\n",
    "plt.xticks(np.arange(5), np.arange(1,6));\n",
    "plt.yticks(np.arange(5), np.arange(1,6));\n",
    "plt.xlabel(\"Predicted Values\");\n",
    "plt.ylabel(\"Actual Values\");\n",
    "plt.title(\"Actual vs. Predicted Values\\n(%age gives percent of actual values\\nin each predicted value)\");"
   ]
  },
  {
   "cell_type": "code",
   "execution_count": 705,
   "metadata": {},
   "outputs": [
    {
     "data": {
      "image/png": "[encoded data removed]",
      "text/plain": [
       "<Figure size 576x576 with 1 Axes>"
      ]
     },
     "metadata": {
      "needs_background": "light"
     },
     "output_type": "display_data"
    }
   ],
   "source": [
    "plt.figure(figsize=(8,8))\n",
    "plt.hist(acts, density=True, alpha=.5, label='actual', bins=range(6));\n",
    "plt.hist(preds, density=True, alpha=.5, label='predicted', bins=range(6));\n",
    "plt.legend(loc=2, prop={'size': 15});\n",
    "plt.xlabel('Rating');\n",
    "plt.title('Predicted vs. Actual Rating');"
   ]
  },
  {
   "cell_type": "markdown",
   "metadata": {},
   "source": [
    "## Combine this hist with the heatmap for a beaut plot"
   ]
  },
  {
   "cell_type": "code",
   "execution_count": null,
   "metadata": {},
   "outputs": [],
   "source": []
  }
 ],
 "metadata": {
  "kernelspec": {
   "display_name": "Python 3",
   "language": "python",
   "name": "python3"
  },
  "language_info": {
   "codemirror_mode": {
    "name": "ipython",
    "version": 3
   },
   "file_extension": ".py",
   "mimetype": "text/x-python",
   "name": "python",
   "nbconvert_exporter": "python",
   "pygments_lexer": "ipython3",
   "version": "3.7.3"
  }
 },
 "nbformat": 4,
 "nbformat_minor": 2
}
